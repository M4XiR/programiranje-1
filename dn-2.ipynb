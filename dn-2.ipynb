{
 "cells": [
  {
   "cell_type": "markdown",
   "metadata": {},
   "source": [
    "# 2. domača naloga"
   ]
  },
  {
   "cell_type": "markdown",
   "metadata": {},
   "source": [
    "Pri tej nalogi boste napisali svoj simulator računalnika, ki se bo malenkostno razlikoval od [tistega, ki smo ga spoznali na predavanjih](https://schweigi.github.io/assembler-simulator/):\n",
    "- Simulator bo uporabljal Harvardsko arhitekturo, kar pomeni, da bo ločil med pomnilnikoma za program in podatke.\n",
    "- Namesto pomnilnika z omejeno velikostjo bomo imeli samo sklad, ki ga bomo predstavili s poljubno velikim seznamom.\n",
    "- Prav tako ne bomo vsega predstavili z 8-bitnimi števili. Za ukaze bomo definirali svoj naštevni tip, števila v pomnilniku pa bodo taka, kot jih podpira OCaml."
   ]
  },
  {
   "cell_type": "markdown",
   "metadata": {},
   "source": [
    "## Podatkovni tipi"
   ]
  },
  {
   "cell_type": "markdown",
   "metadata": {},
   "source": [
    "Pri vsakem večjem funkcijskem programu je prvi korak definicija ustreznih tipov. V simulatorju bomo imeli dva glavna tipa: `instruction`, s katerim bomo predstavili posamezne ukaze v programu, in `state`, s katerim bomo predstavili trenutno stanje računalnika. Seveda pa si bomo morali pred njima definirati še nekaj pomožnih tipov."
   ]
  },
  {
   "cell_type": "markdown",
   "metadata": {},
   "source": [
    "### Registri"
   ]
  },
  {
   "cell_type": "markdown",
   "metadata": {},
   "source": [
    "Nekateri ukazi za argument sprejmejo register, ki ga spreminjajo, na primer: `INC A` ali `POP B`.\n",
    "\n",
    "Definirajte naštevni tip `register`, ki bo predstavljal štiri možne registre procesorja **A**, **B**, **C** in **D**."
   ]
  },
  {
   "cell_type": "code",
   "execution_count": null,
   "metadata": {
    "vscode": {
     "languageId": "ocaml"
    }
   },
   "outputs": [
    {
     "data": {
      "text/plain": [
       "type register = A | B | C | D\n"
      ]
     },
     "execution_count": 146,
     "metadata": {},
     "output_type": "execute_result"
    },
    {
     "data": {
      "text/plain": [
       "val primer_tipi_1 : register list list = [[A; B; B; A]; [A; C; D; C]]\n"
      ]
     },
     "execution_count": 146,
     "metadata": {},
     "output_type": "execute_result"
    }
   ],
   "source": [
    "type register = A | B | C | D\n",
    "\n",
    "let primer_tipi_1 = [[A; B; B; A]; [A; C; D; C]]"
   ]
  },
  {
   "cell_type": "markdown",
   "metadata": {},
   "source": [
    "### Izrazi"
   ]
  },
  {
   "cell_type": "markdown",
   "metadata": {
    "vscode": {
     "languageId": "ocaml"
    }
   },
   "source": [
    "Nekateri ukazi poleg registra sprejmejo še dodaten argument, ki je lahko bodisi register, bodisi celoštevilska konstanta, na primer `MOV A, B` ali `MOV A, 42`. Definirajte naštevni tip `expression`, ki predstavlja izraze, ki so lahko registri ali števila."
   ]
  },
  {
   "cell_type": "code",
   "execution_count": null,
   "metadata": {
    "vscode": {
     "languageId": "ocaml"
    }
   },
   "outputs": [
    {
     "data": {
      "text/plain": [
       "type expression = Register of register | Const of int\n"
      ]
     },
     "execution_count": 147,
     "metadata": {},
     "output_type": "execute_result"
    },
    {
     "data": {
      "text/plain": [
       "val primer_tipi_2 : expression list = [Register B; Const 42]\n"
      ]
     },
     "execution_count": 147,
     "metadata": {},
     "output_type": "execute_result"
    }
   ],
   "source": [
    "type expression = \n",
    "  | Register of register\n",
    "  | Const of int\n",
    "\n",
    "let primer_tipi_2 = [Register B; Const 42]"
   ]
  },
  {
   "cell_type": "markdown",
   "metadata": {},
   "source": [
    "### Naslovi"
   ]
  },
  {
   "cell_type": "markdown",
   "metadata": {},
   "source": [
    "Ukazi za skoke za argument sprejmejo naslov ukaza v pomnilniku. Naslove bomo predstavili s celimi števili, da pa jih ne bi ponesreči zamešali s celoštevilskimi konstantami, definirajte še tip `address`, ki naj bo naštevni tip z eno samo varianto `Address` s celoštevilskim argumentom."
   ]
  },
  {
   "cell_type": "code",
   "execution_count": null,
   "metadata": {
    "vscode": {
     "languageId": "ocaml"
    }
   },
   "outputs": [
    {
     "data": {
      "text/plain": [
       "type address = Address of int\n"
      ]
     },
     "execution_count": 148,
     "metadata": {},
     "output_type": "execute_result"
    },
    {
     "data": {
      "text/plain": [
       "val primer_tipi_3 : int * address = (42, Address 42)\n"
      ]
     },
     "execution_count": 148,
     "metadata": {},
     "output_type": "execute_result"
    }
   ],
   "source": [
    "type address = Address of int\n",
    "\n",
    "let primer_tipi_3 = (42, Address 42)"
   ]
  },
  {
   "cell_type": "markdown",
   "metadata": {},
   "source": [
    "### Ukazi"
   ]
  },
  {
   "cell_type": "markdown",
   "metadata": {
    "vscode": {
     "languageId": "ocaml"
    }
   },
   "source": [
    "Naš simulator bo podpiral naslednje ukaze, pri čemer je _R_ vedno poljuben register, _A_ naslov v ukaznem pomnilniku, _E_ pa izraz, torej bodisi register bodisi celoštevilska konstanta.\n",
    "\n",
    "ukaz                      | opis \n",
    "------------------------: | -----------------------------------------------------------------------------------------------------\n",
    "`MOV` _R_, _E_            | premakni vrednost izraza _E_ v register _R_          \n",
    "`ADD`/`SUB` _R_, _E_      | register _R_ povečaj/zmanjšaj za _E_\n",
    "`INC`/`DEC` _R_           | register _R_ povečaj/zmanjšaj za 1\n",
    "`MUL`/`DIV` _E_           | register **A** pomnoži/deli z _E_\n",
    "`AND`/`OR`/`XOR` _R_, _E_ | v register _R_ shrani rezultat logične operacije _R op E_\n",
    "`NOT` _R_                 | negiraj register _R_\n",
    "`CMP` _R_, _E_            | primerjaj register _R_ z vrednostjo _E_ ter rezultat primerjave shrani v zastavici **Zero** in **Carry**\n",
    "`JMP` _A_                 | skoči na naslov _A_\n",
    "`JA`/`JAE` _A_            | skoči na naslov _A_, če je v zadnji primerjavi veljalo _x > y_ / _x ≥ y_\n",
    "`JB`/`JBE` _A_            | skoči na naslov _A_, če je v zadnji primerjavi veljalo _x < y_ / _x ≤ y_\n",
    "`JE`/`JNE` _A_            | skoči na naslov _A_, če je v zadnji primerjavi veljalo _x = y_ / _x ≠ y_\n",
    "`CALL` _A_                | skoči na naslov _A_ in shrani naslov naslednjega ukaza na vrh sklada\n",
    "`RET`                     | iz funkcije se vrni na naslov na vrhu sklada\n",
    "`PUSH` _E_                | vrednost izraza _E_ shrani na vrh sklada\n",
    "`POP` _R_                 | snemi vrednost s sklada in jo shrani v register _R_\n",
    "`HLT`                     | ustavi izvajanje programa"
   ]
  },
  {
   "cell_type": "markdown",
   "metadata": {},
   "source": [
    "Dopolnite naslednjo definicijo tipa `instruction`, da bo imel eno varianto za vsakega od zgoraj navedenih ukazov:"
   ]
  },
  {
   "cell_type": "code",
   "execution_count": null,
   "metadata": {
    "vscode": {
     "languageId": "ocaml"
    }
   },
   "outputs": [
    {
     "data": {
      "text/plain": [
       "type instruction =\n",
       "    MOV of register * expression\n",
       "  | ADD of register * expression\n",
       "  | SUB of register * expression\n",
       "  | INC of register\n",
       "  | DEC of register\n",
       "  | MUL of expression\n",
       "  | DIV of expression\n",
       "  | AND of register * expression\n",
       "  | OR of register * expression\n",
       "  | XOR of register * expression\n",
       "  | NOT of register\n",
       "  | CMP of register * expression\n",
       "  | JMP of address\n",
       "  | JA of address\n",
       "  | JAE of address\n",
       "  | JB of address\n",
       "  | JBE of address\n",
       "  | JE of address\n",
       "  | JNE of address\n",
       "  | CALL of address\n",
       "  | RET\n",
       "  | PUSH of expression\n",
       "  | POP of register\n",
       "  | HLT\n"
      ]
     },
     "execution_count": 149,
     "metadata": {},
     "output_type": "execute_result"
    }
   ],
   "source": [
    "type instruction =\n",
    "  | MOV of register * expression\n",
    "  | ADD of register * expression\n",
    "  | SUB of register * expression\n",
    "  | INC of register\n",
    "  | DEC of register\n",
    "  | MUL of expression\n",
    "  | DIV of expression\n",
    "  | AND of register * expression\n",
    "  | OR of register * expression\n",
    "  | XOR of register * expression\n",
    "  | NOT of register\n",
    "  | CMP of register * expression\n",
    "  | JMP of address\n",
    "  | JA of address\n",
    "  | JAE of address\n",
    "  | JB of address\n",
    "  | JBE of address\n",
    "  | JE of address\n",
    "  | JNE of address\n",
    "  | CALL of address\n",
    "  | RET\n",
    "  | PUSH of expression\n",
    "  | POP of register\n",
    "  | HLT"
   ]
  },
  {
   "cell_type": "code",
   "execution_count": null,
   "metadata": {
    "vscode": {
     "languageId": "ocaml"
    }
   },
   "outputs": [
    {
     "data": {
      "text/plain": [
       "val primer_tipi_4 : instruction list =\n",
       "  [MOV (A, Register B); MOV (C, Const 42); JA (Address 10); HLT]\n"
      ]
     },
     "execution_count": 150,
     "metadata": {},
     "output_type": "execute_result"
    }
   ],
   "source": [
    "let primer_tipi_4 = [ MOV (A, Register B); MOV (C, Const 42); JA (Address 10); HLT ]"
   ]
  },
  {
   "cell_type": "markdown",
   "metadata": {},
   "source": [
    "Za primer večjega programa se spomnimo programa za izračun Fibonaccijevih števil. S seznamom ukazov, bi ga napisali kot spodaj. Pri tem opazite, da so naslovi ukazov v programu zapisani kot celoštevilski indeksi. Pretvorbo iz berljivih oznak kot so `main`, `fib` in `.fib_end` bomo obravnavali kasneje."
   ]
  },
  {
   "cell_type": "code",
   "execution_count": null,
   "metadata": {
    "vscode": {
     "languageId": "ocaml"
    }
   },
   "outputs": [
    {
     "data": {
      "text/plain": [
       "val fibonacci : int -> instruction list = <fun>\n"
      ]
     },
     "execution_count": 151,
     "metadata": {},
     "output_type": "execute_result"
    }
   ],
   "source": [
    "let fibonacci n = [\n",
    "  JMP (Address 20);       (* JMP main *)\n",
    "\n",
    "(* fib: *)\n",
    "  (* ; Shranimo vrednosti registrov *)\n",
    "  PUSH (Register C);      (* PUSH C *)\n",
    "  PUSH (Register B);      (* PUSH B *)\n",
    "\n",
    "  (* ; V C shranimo začetno vrednost A *)\n",
    "  MOV (C, Register A);    (* MOV C, A *)\n",
    "\n",
    "  (* ; Če je A = 0, je to tudi rezultat *)\n",
    "  CMP (A, Const 0);       (* CMP A, 0 *)\n",
    "  JE (Address 17);        (* JE .fib_end *)\n",
    "\n",
    "  (* ; Če je A = 1, je to tudi rezultat *)\n",
    "  CMP (A, Const 1);       (* CMP A, 1 *)\n",
    "  JE (Address 17);        (* JE .fib_end *)\n",
    "\n",
    "  (* ; V nasprotnem primeru najprej izračunamo fib(A - 1) in ga shranimo v B *)\n",
    "  DEC C;                  (* DEC C *)\n",
    "  MOV (A, Register C);    (* MOV A, C *)\n",
    "  CALL (Address 1);       (* CALL fib *)\n",
    "  MOV (B, Register A);    (* MOV B, A *)\n",
    "\n",
    "  (* ; Nato izračunamo še fib(A - 2) in ga shranimo v A *)\n",
    "  DEC C;                  (* DEC C *)\n",
    "  MOV (A, Register C);    (* MOV A, C *)\n",
    "  CALL (Address 1);       (* CALL fib *)\n",
    "  \n",
    "  (* ; Nazadnje k A prištejemo še B, s čimer dobimo končni rezultat *)\n",
    "  ADD (A, Register B);    (* ADD A, B *)\n",
    "  JMP (Address 17);       (* JMP .fib_end *)\n",
    "\n",
    "(* .fib_end: *)\n",
    "  (* ; Povrnemo vrednosti registrov in vrnemo rezultat *)\n",
    "  POP B;                  (* POP B *)\n",
    "  POP C;                  (* POP C *)\n",
    "  RET;                    (* RET *)\n",
    "\n",
    "(* main: *)\n",
    "  MOV (A, Const n);       (* MOV A, n *)\n",
    "  CALL (Address 1);       (* CALL fib *)\n",
    "  HLT;                    (* HLT *)\n",
    "]"
   ]
  },
  {
   "cell_type": "code",
   "execution_count": null,
   "metadata": {
    "vscode": {
     "languageId": "ocaml"
    }
   },
   "outputs": [
    {
     "data": {
      "text/plain": [
       "val primer_tipi_5 : instruction list =\n",
       "  [JMP (Address 20); PUSH (Register C); PUSH (Register B);\n",
       "   MOV (C, Register A); CMP (A, Const 0); JE (Address 17); CMP (A, Const 1);\n",
       "   JE (Address 17); DEC C; MOV (A, Register C); CALL (Address 1);\n",
       "   MOV (B, Register A); DEC C; MOV (A, Register C); CALL (Address 1);\n",
       "   ADD (A, Register B); JMP (Address 17); POP B; POP C; RET;\n",
       "   MOV (A, Const 10); CALL (Address 1); HLT]\n"
      ]
     },
     "execution_count": 152,
     "metadata": {},
     "output_type": "execute_result"
    }
   ],
   "source": [
    "let primer_tipi_5 = fibonacci 10"
   ]
  },
  {
   "cell_type": "markdown",
   "metadata": {},
   "source": [
    "### Pomnilnik"
   ]
  },
  {
   "cell_type": "markdown",
   "metadata": {},
   "source": [
    "Morda v nasprotju s pričakovanji ukazov ne bomo shranjevali v sezname tipa `instruction list`, ampak v tabele tipa `instruction array`. O tabelah se bomo še pogovarjali, njihova bistvena prednost pa je ta, da do elementa na danem mestu lahko dostopamo takoj, ne da bi se morali sprehoditi po predhodnih elementih. Tabele pišemo tako kot sezname, le da oklepaje pišemo kot `[| ... |]` namesto kot `[ ... ]`, do posameznega elementa tabele pa dostopamo prek `tabela.(indeks)`, na primer `[| 314; 42; 2718 |].(1)` vrne `42`."
   ]
  },
  {
   "cell_type": "markdown",
   "metadata": {},
   "source": [
    "Nazadnje bomo celotno stanje računalnika predstavili z zapisnim. Definirajte tip `state` s sledečimi polji:\n",
    "- `instructions`: tabela ukazov v ukaznem pomnilniku,\n",
    "- `a`, `b`, `c`, `d`: štiri celoštevilske vrednosti v registrih, \n",
    "- `ip`: naslov trenutnega ukaza, tipa `address`,\n",
    "- `zero`, `carry`: vrednosti zastavic **Zero** in **Carry**,\n",
    "- `stack`: seznam celoštevilskih vrednosti na skladu."
   ]
  },
  {
   "cell_type": "code",
   "execution_count": null,
   "metadata": {
    "vscode": {
     "languageId": "ocaml"
    }
   },
   "outputs": [
    {
     "data": {
      "text/plain": [
       "type state = {\n",
       "  instructions : instruction array;\n",
       "  a : int;\n",
       "  b : int;\n",
       "  c : int;\n",
       "  d : int;\n",
       "  ip : address;\n",
       "  zero : bool;\n",
       "  carry : bool;\n",
       "  stack : int list;\n",
       "}\n"
      ]
     },
     "execution_count": 153,
     "metadata": {},
     "output_type": "execute_result"
    },
    {
     "data": {
      "text/plain": [
       "val primer_tipi_6 : state =\n",
       "  {instructions =\n",
       "    [|MOV (A, Register B); MOV (C, Const 42); JA (Address 10); HLT|];\n",
       "   a = 1; b = 2; c = 3; d = 4; ip = Address 0; zero = true; carry = false;\n",
       "   stack = [5; 6; 7]}\n"
      ]
     },
     "execution_count": 153,
     "metadata": {},
     "output_type": "execute_result"
    }
   ],
   "source": [
    "type state = {\n",
    "  instructions : instruction array;\n",
    "  a : int;\n",
    "  b : int;\n",
    "  c : int;\n",
    "  d : int;\n",
    "  ip : address ;\n",
    "  zero : bool;\n",
    "  carry : bool;\n",
    "  stack : int list;\n",
    "}\n",
    "\n",
    "let primer_tipi_6 = {\n",
    "  instructions = [| MOV (A, Register B); MOV (C, Const 42); JA (Address 10); HLT |];\n",
    "  a = 1; b = 2; c = 3; d = 4;\n",
    "  ip = Address 0;\n",
    "  zero = true; carry = false;\n",
    "  stack = [5; 6; 7];\n",
    "}\n",
    "\n"
   ]
  },
  {
   "cell_type": "markdown",
   "metadata": {},
   "source": [
    "### Začetno stanje"
   ]
  },
  {
   "cell_type": "markdown",
   "metadata": {},
   "source": [
    "Prazno stanje pomnilnika lahko predstavimo z zapisom:"
   ]
  },
  {
   "cell_type": "code",
   "execution_count": null,
   "metadata": {
    "vscode": {
     "languageId": "ocaml"
    }
   },
   "outputs": [
    {
     "data": {
      "text/plain": [
       "val empty : state =\n",
       "  {instructions = [||]; a = 0; b = 0; c = 0; d = 0; ip = Address 0;\n",
       "   zero = false; carry = false; stack = []}\n"
      ]
     },
     "execution_count": 154,
     "metadata": {},
     "output_type": "execute_result"
    }
   ],
   "source": [
    "let empty = {\n",
    "  instructions = [||];\n",
    "  a = 0;\n",
    "  b = 0;\n",
    "  c = 0;\n",
    "  d = 0;\n",
    "  ip = Address 0;\n",
    "  zero = false;\n",
    "  carry = false;\n",
    "  stack = [];\n",
    "}"
   ]
  },
  {
   "cell_type": "markdown",
   "metadata": {},
   "source": [
    "Kljub temu, da so tabele učinkovitejše, so seznami za delo bolj praktični. Zato definirajte funkcijo `init : instruction list -> state`, ki sprejme seznam ukazov in vrne začetno stanje računalnika, v katerem so vsi registri in zastavice nastavljeni na nič, sklad pa je prazen. Pri tem si lahko za pretvorbo seznama v tabelo pomagate z uporabo funkcije `Array.of_list`."
   ]
  },
  {
   "cell_type": "code",
   "execution_count": null,
   "metadata": {
    "vscode": {
     "languageId": "ocaml"
    }
   },
   "outputs": [
    {
     "data": {
      "text/plain": [
       "val init : instruction list -> state = <fun>\n"
      ]
     },
     "execution_count": 155,
     "metadata": {},
     "output_type": "execute_result"
    },
    {
     "data": {
      "text/plain": [
       "val primer_tipi_7 : state =\n",
       "  {instructions =\n",
       "    [|MOV (A, Register B); MOV (C, Const 42); JA (Address 10); HLT|];\n",
       "   a = 0; b = 0; c = 0; d = 0; ip = Address 0; zero = false; carry = false;\n",
       "   stack = []}\n"
      ]
     },
     "execution_count": 155,
     "metadata": {},
     "output_type": "execute_result"
    }
   ],
   "source": [
    "let init (seznam :instruction list) : state =\n",
    "  {\n",
    "  instructions = Array.of_list seznam;\n",
    "  a = 0;\n",
    "  b = 0;\n",
    "  c = 0;\n",
    "  d = 0;\n",
    "  ip = Address 0;\n",
    "  zero = false;\n",
    "  carry = false;\n",
    "  stack = [];\n",
    "}\n",
    "\n",
    "let primer_tipi_7 = init [ MOV (A, Register B); MOV (C, Const 42); JA (Address 10); HLT ]"
   ]
  },
  {
   "cell_type": "markdown",
   "metadata": {},
   "source": [
    "## Izvajanje ukazov"
   ]
  },
  {
   "cell_type": "markdown",
   "metadata": {},
   "source": [
    "S pripravljenima tipoma ukazov in stanja se lahko lotimo pisanja funkcij za izvrševanje ukazov."
   ]
  },
  {
   "cell_type": "markdown",
   "metadata": {},
   "source": [
    "### Branje stanja"
   ]
  },
  {
   "cell_type": "markdown",
   "metadata": {},
   "source": [
    "Napišite funkcijo `read_instruction : state -> instruction option`, ki v danem stanju vrne trenuten ukaz. Če ukaz sega izven območja ukaznega pomnilnika, naj funkcija vrne `None`."
   ]
  },
  {
   "cell_type": "code",
   "execution_count": null,
   "metadata": {
    "vscode": {
     "languageId": "ocaml"
    }
   },
   "outputs": [
    {
     "data": {
      "text/plain": [
       "val read_instruction : state -> instruction option = <fun>\n"
      ]
     },
     "execution_count": 156,
     "metadata": {},
     "output_type": "execute_result"
    },
    {
     "data": {
      "text/plain": [
       "val primer_izvajanje_1 : instruction option list =\n",
       "  [Some (MOV (C, Const 42)); Some HLT; None]\n"
      ]
     },
     "execution_count": 156,
     "metadata": {},
     "output_type": "execute_result"
    }
   ],
   "source": [
    "let read_instruction (stanje : state) : instruction option = \n",
    "  let Address ip_vrednost = stanje.ip in \n",
    "  if ip_vrednost >= 0 && ip_vrednost < Array.length stanje.instructions then\n",
    "    Some stanje.instructions.(ip_vrednost) \n",
    "  else\n",
    "    None\n",
    "\n",
    "    \n",
    "let primer_izvajanje_1 =\n",
    "  [\n",
    "    read_instruction { empty with instructions = [| MOV (A, Register B); MOV (C, Const 42); JA (Address 10); HLT |]; ip = (Address 1) };\n",
    "    read_instruction { empty with instructions = [| MOV (A, Register B); MOV (C, Const 42); JA (Address 10); HLT |]; ip = (Address 3) };\n",
    "    read_instruction { empty with instructions = [| MOV (A, Register B); MOV (C, Const 42); JA (Address 10); HLT |]; ip = (Address 5) };\n",
    "  ]"
   ]
  },
  {
   "cell_type": "markdown",
   "metadata": {},
   "source": [
    "Napišite funkcijo `read_register : state -> register -> int`, ki vrne vrednost registra v danem stanju."
   ]
  },
  {
   "cell_type": "code",
   "execution_count": null,
   "metadata": {
    "vscode": {
     "languageId": "ocaml"
    }
   },
   "outputs": [
    {
     "data": {
      "text/plain": [
       "val read_register : state -> register -> int = <fun>\n"
      ]
     },
     "execution_count": 157,
     "metadata": {},
     "output_type": "execute_result"
    }
   ],
   "source": [
    "let read_register (stanje : state) (reg: register) =\n",
    "  match reg with\n",
    "  | A -> stanje.a\n",
    "  | B -> stanje.b\n",
    "  | C -> stanje.c\n",
    "  | D -> stanje.d\n"
   ]
  },
  {
   "cell_type": "code",
   "execution_count": null,
   "metadata": {
    "vscode": {
     "languageId": "ocaml"
    }
   },
   "outputs": [
    {
     "data": {
      "text/plain": [
       "val primer_izvajanje_2 : int = 42\n"
      ]
     },
     "execution_count": 158,
     "metadata": {},
     "output_type": "execute_result"
    }
   ],
   "source": [
    "let primer_izvajanje_2 =\n",
    "  read_register { empty with a = 10; b = 42 } B"
   ]
  },
  {
   "cell_type": "markdown",
   "metadata": {},
   "source": [
    "Napišite funkcijo `read_expression : state -> expression -> int`, ki vrne celoštevilsko vrednost izraza v danem stanju."
   ]
  },
  {
   "cell_type": "code",
   "execution_count": null,
   "metadata": {
    "vscode": {
     "languageId": "ocaml"
    }
   },
   "outputs": [
    {
     "data": {
      "text/plain": [
       "val read_expression : state -> expression -> int = <fun>\n"
      ]
     },
     "execution_count": 159,
     "metadata": {},
     "output_type": "execute_result"
    },
    {
     "data": {
      "text/plain": [
       "val primer_izvajanje_3 : int = 20\n"
      ]
     },
     "execution_count": 159,
     "metadata": {},
     "output_type": "execute_result"
    }
   ],
   "source": [
    "let read_expression (stanje : state) (expr : expression) : int =\n",
    "  match expr with\n",
    "  | Register reg -> read_register stanje reg \n",
    "  | Const n -> n \n",
    "\n",
    "let primer_izvajanje_3 =\n",
    "  read_expression { empty with a = 10; b = 20 } (Register B)"
   ]
  },
  {
   "cell_type": "code",
   "execution_count": null,
   "metadata": {
    "vscode": {
     "languageId": "ocaml"
    }
   },
   "outputs": [
    {
     "data": {
      "text/plain": [
       "val primer_izvajanje_4 : int = 42\n"
      ]
     },
     "execution_count": 160,
     "metadata": {},
     "output_type": "execute_result"
    }
   ],
   "source": [
    "let primer_izvajanje_4 =\n",
    "  read_expression { empty with a = 10; b = 20 } (Const 42)"
   ]
  },
  {
   "cell_type": "markdown",
   "metadata": {},
   "source": [
    "### Spreminjanje registrov"
   ]
  },
  {
   "cell_type": "markdown",
   "metadata": {},
   "source": [
    "Napišite funkcijo `write_register : state -> register -> int -> state`, ki vrednost registra v danem stanju nastavi na dano število. Funkcija naj vrne novo stanje."
   ]
  },
  {
   "cell_type": "code",
   "execution_count": null,
   "metadata": {
    "vscode": {
     "languageId": "ocaml"
    }
   },
   "outputs": [
    {
     "data": {
      "text/plain": [
       "val write_register : state -> register -> int -> state = <fun>\n"
      ]
     },
     "execution_count": 161,
     "metadata": {},
     "output_type": "execute_result"
    },
    {
     "data": {
      "text/plain": [
       "val primer_izvajanje_5 : state =\n",
       "  {instructions = [||]; a = 0; b = 0; c = 42; d = 24; ip = Address 0;\n",
       "   zero = false; carry = false; stack = []}\n"
      ]
     },
     "execution_count": 161,
     "metadata": {},
     "output_type": "execute_result"
    }
   ],
   "source": [
    "let write_register (stanje : state) (reg : register) (stevilo : int) : state =\n",
    "  match reg with\n",
    "  | A -> { stanje with a = stevilo } \n",
    "  | B -> { stanje with b = stevilo } \n",
    "  | C -> { stanje with c = stevilo } \n",
    "  | D -> { stanje with d = stevilo } \n",
    "\n",
    "let primer_izvajanje_5 =\n",
    "  write_register { empty with c = 42 } D 24"
   ]
  },
  {
   "cell_type": "markdown",
   "metadata": {},
   "source": [
    "Napišite funkcijo `perform_unop : (int -> int) -> state -> register -> state`, ki izvede eniško operacijo na vrednosti registra. Funkcija naj vrne novo stanje s spremenjenim registrom."
   ]
  },
  {
   "cell_type": "code",
   "execution_count": null,
   "metadata": {
    "vscode": {
     "languageId": "ocaml"
    }
   },
   "outputs": [
    {
     "data": {
      "text/plain": [
       "val perform_unop : (int -> int) -> state -> register -> state = <fun>\n"
      ]
     },
     "execution_count": 162,
     "metadata": {},
     "output_type": "execute_result"
    },
    {
     "data": {
      "text/plain": [
       "val primer_izvajanje_6 : state =\n",
       "  {instructions = [||]; a = 0; b = 0; c = 505; d = 0; ip = Address 0;\n",
       "   zero = false; carry = false; stack = []}\n"
      ]
     },
     "execution_count": 162,
     "metadata": {},
     "output_type": "execute_result"
    }
   ],
   "source": [
    "let perform_unop (operacija : int -> int) (stanje : state) (reg : register) : state =\n",
    "  let trenutna_vrednost = read_register stanje reg in \n",
    "  let nova_vrednost = operacija trenutna_vrednost in \n",
    "  write_register stanje reg nova_vrednost \n",
    "\n",
    "let primer_izvajanje_6 =\n",
    "  perform_unop (fun x -> 101 * x) { empty with c = 5 } C"
   ]
  },
  {
   "cell_type": "markdown",
   "metadata": {},
   "source": [
    "Napišite funkcijo `perform_binop : (int -> int -> int) -> state -> register -> expression -> state`, ki izvede dvojiško operacijo na danem registru in izrazu. Funkcija naj vrne novo stanje s spremenjenim registrom."
   ]
  },
  {
   "cell_type": "code",
   "execution_count": null,
   "metadata": {
    "vscode": {
     "languageId": "ocaml"
    }
   },
   "outputs": [
    {
     "data": {
      "text/plain": [
       "val perform_binop :\n",
       "  (int -> int -> int) -> state -> register -> expression -> state = <fun>\n"
      ]
     },
     "execution_count": 163,
     "metadata": {},
     "output_type": "execute_result"
    },
    {
     "data": {
      "text/plain": [
       "val primer_izvajanje_7 : state =\n",
       "  {instructions = [||]; a = 0; b = 0; c = 505; d = 0; ip = Address 0;\n",
       "   zero = false; carry = false; stack = []}\n"
      ]
     },
     "execution_count": 163,
     "metadata": {},
     "output_type": "execute_result"
    }
   ],
   "source": [
    "let perform_binop (operacija : int -> int -> int) (stanje : state) (reg : register) (ekspr : expression): state =\n",
    "  let vrednost_registra = read_register stanje reg in \n",
    "  let nova_vrednost_izraza = read_expression stanje ekspr in \n",
    "  let nova_vrednost = operacija vrednost_registra nova_vrednost_izraza in \n",
    "  write_register stanje reg nova_vrednost \n",
    "\n",
    "let primer_izvajanje_7 =\n",
    "  perform_binop ( * ) { empty with c = 5 } C (Const 101)"
   ]
  },
  {
   "cell_type": "markdown",
   "metadata": {},
   "source": [
    "### Skoki"
   ]
  },
  {
   "cell_type": "markdown",
   "metadata": {},
   "source": [
    "Napišite funkcijo `next : address -> address`, ki vrne naslednji naslov (torej povečan za 1, saj v našem primeru vsi ukazi zasedejo enako prostora)."
   ]
  },
  {
   "cell_type": "code",
   "execution_count": null,
   "metadata": {
    "vscode": {
     "languageId": "ocaml"
    }
   },
   "outputs": [
    {
     "data": {
      "text/plain": [
       "val next : address -> address = <fun>\n"
      ]
     },
     "execution_count": 164,
     "metadata": {},
     "output_type": "execute_result"
    },
    {
     "data": {
      "text/plain": [
       "val primer_izvajanje_8 : address = Address 42\n"
      ]
     },
     "execution_count": 164,
     "metadata": {},
     "output_type": "execute_result"
    }
   ],
   "source": [
    "let next (Address addr) : address =\n",
    "  Address (addr + 1)\n",
    "\n",
    "\n",
    "let primer_izvajanje_8 =\n",
    "  next (Address 41)"
   ]
  },
  {
   "cell_type": "markdown",
   "metadata": {},
   "source": [
    "Napišite funkciji `jump : state -> address -> state` in `proceed : state -> state`. Prva naj v danem stanju skoči na dani naslov, druga pa naj skoči na naslednji ukaz."
   ]
  },
  {
   "cell_type": "code",
   "execution_count": null,
   "metadata": {
    "vscode": {
     "languageId": "ocaml"
    }
   },
   "outputs": [
    {
     "data": {
      "text/plain": [
       "val jump : state -> address -> state = <fun>\n"
      ]
     },
     "execution_count": 165,
     "metadata": {},
     "output_type": "execute_result"
    },
    {
     "data": {
      "text/plain": [
       "val primer_izvajanje_9 : state =\n",
       "  {instructions = [||]; a = 0; b = 0; c = 0; d = 0; ip = Address 10;\n",
       "   zero = false; carry = false; stack = []}\n"
      ]
     },
     "execution_count": 165,
     "metadata": {},
     "output_type": "execute_result"
    }
   ],
   "source": [
    "let jump (stanje : state) (addr : address) : state =\n",
    "  { stanje with ip = addr }\n",
    "\n",
    "\n",
    "let primer_izvajanje_9 =\n",
    "  jump { empty with ip = Address 42} (Address 10)"
   ]
  },
  {
   "cell_type": "code",
   "execution_count": null,
   "metadata": {
    "vscode": {
     "languageId": "ocaml"
    }
   },
   "outputs": [
    {
     "data": {
      "text/plain": [
       "val proceed : state -> state = <fun>\n"
      ]
     },
     "execution_count": 166,
     "metadata": {},
     "output_type": "execute_result"
    },
    {
     "data": {
      "text/plain": [
       "val primer_izvajanje_10 : state =\n",
       "  {instructions = [||]; a = 0; b = 0; c = 0; d = 0; ip = Address 43;\n",
       "   zero = false; carry = false; stack = []}\n"
      ]
     },
     "execution_count": 166,
     "metadata": {},
     "output_type": "execute_result"
    }
   ],
   "source": [
    "let proceed (stanje : state) : state =\n",
    "  let next_addr = next stanje.ip in\n",
    "  { stanje with ip = next_addr }\n",
    "\n",
    "\n",
    "let primer_izvajanje_10 =\n",
    "  proceed { empty with ip = Address 42}"
   ]
  },
  {
   "cell_type": "markdown",
   "metadata": {},
   "source": [
    "Napišite funkciji `push_stack : state -> int -> state` in `pop_stack : state -> int * state`, ki dodata vrednost na sklad oziroma jo odstranita z njega. Funkcija `pop_stack` poleg spremenjenega stanja vrne tudi odstranjeno vrednost. Če je sklad prazen, naj funkcija `pop_stack` sproži izjemo."
   ]
  },
  {
   "cell_type": "code",
   "execution_count": null,
   "metadata": {
    "vscode": {
     "languageId": "ocaml"
    }
   },
   "outputs": [
    {
     "data": {
      "text/plain": [
       "val push_stack : state -> int -> state = <fun>\n"
      ]
     },
     "execution_count": 167,
     "metadata": {},
     "output_type": "execute_result"
    },
    {
     "data": {
      "text/plain": [
       "val primer_izvajanje_10 : state =\n",
       "  {instructions = [||]; a = 0; b = 0; c = 0; d = 0; ip = Address 0;\n",
       "   zero = false; carry = false; stack = [42; 1; 2; 3]}\n"
      ]
     },
     "execution_count": 167,
     "metadata": {},
     "output_type": "execute_result"
    }
   ],
   "source": [
    "let push_stack (stanje : state) vrednost : state =\n",
    "  { stanje with stack = vrednost :: stanje.stack }\n",
    "\n",
    "let primer_izvajanje_10 =\n",
    "  push_stack { empty with stack = [1; 2; 3] } 42"
   ]
  },
  {
   "cell_type": "code",
   "execution_count": null,
   "metadata": {
    "vscode": {
     "languageId": "ocaml"
    }
   },
   "outputs": [
    {
     "data": {
      "text/plain": [
       "val pop_stack : state -> int * state = <fun>\n"
      ]
     },
     "execution_count": 168,
     "metadata": {},
     "output_type": "execute_result"
    },
    {
     "data": {
      "text/plain": [
       "val primer_izvajanje_11 : int * state =\n",
       "  (1,\n",
       "   {instructions = [||]; a = 0; b = 0; c = 0; d = 0; ip = Address 0;\n",
       "    zero = false; carry = false; stack = [2; 3]})\n"
      ]
     },
     "execution_count": 168,
     "metadata": {},
     "output_type": "execute_result"
    }
   ],
   "source": [
    "let pop_stack (stanje : state) : int * state =\n",
    "  match stanje.stack with\n",
    "  | [] -> failwith \"Prazen sklad\"\n",
    "  | x :: xs -> (x, { stanje with stack = xs })\n",
    "\n",
    "\n",
    "let primer_izvajanje_11 =\n",
    "  pop_stack { empty with stack = [1; 2; 3] }"
   ]
  },
  {
   "cell_type": "markdown",
   "metadata": {},
   "source": [
    "### Pogojni skoki"
   ]
  },
  {
   "cell_type": "markdown",
   "metadata": {},
   "source": [
    "Napišite funkcijo `compare : state -> int -> int -> state`, ki primerja vrednosti dveh števil in ustrezno nastavi zastavici **Zero** in **Carry**. Prvo naj nastavi na `true` natanko tedaj, kadar sta števili enaki, drugo pa takrat, kadar je prvo število manjše.Funkcija naj vrne novo stanje."
   ]
  },
  {
   "cell_type": "code",
   "execution_count": null,
   "metadata": {
    "vscode": {
     "languageId": "ocaml"
    }
   },
   "outputs": [
    {
     "data": {
      "text/plain": [
       "val compare : state -> int -> int -> state = <fun>\n"
      ]
     },
     "execution_count": 169,
     "metadata": {},
     "output_type": "execute_result"
    },
    {
     "data": {
      "text/plain": [
       "val primer_izvajanje_12 : state =\n",
       "  {instructions = [||]; a = 0; b = 0; c = 0; d = 0; ip = Address 0;\n",
       "   zero = false; carry = true; stack = []}\n"
      ]
     },
     "execution_count": 169,
     "metadata": {},
     "output_type": "execute_result"
    }
   ],
   "source": [
    "let compare (stanje : state) (x : int) (y : int) : state =\n",
    "  { stanje with\n",
    "    zero = (x = y);\n",
    "    carry = (x < y);\n",
    "  }\n",
    "\n",
    "\n",
    "\n",
    "let primer_izvajanje_12 =\n",
    "  compare empty 24 42"
   ]
  },
  {
   "cell_type": "markdown",
   "metadata": {},
   "source": [
    "Napišite funkcijo `conditional_jump : state -> address -> bool -> state`, ki skoči na dani naslov, če je podan pogoj izpolnjen. V nasprotnem primeru naj funkcija skoči na naslednji ukaz."
   ]
  },
  {
   "cell_type": "code",
   "execution_count": null,
   "metadata": {
    "vscode": {
     "languageId": "ocaml"
    }
   },
   "outputs": [
    {
     "data": {
      "text/plain": [
       "val conditional_jump : state -> address -> bool -> state = <fun>\n"
      ]
     },
     "execution_count": 170,
     "metadata": {},
     "output_type": "execute_result"
    },
    {
     "data": {
      "text/plain": [
       "val primer_izvajanje_13 : state =\n",
       "  {instructions = [||]; a = 0; b = 0; c = 0; d = 0; ip = Address 10;\n",
       "   zero = false; carry = false; stack = []}\n"
      ]
     },
     "execution_count": 170,
     "metadata": {},
     "output_type": "execute_result"
    }
   ],
   "source": [
    "let conditional_jump (stanje : state) (addr : address) (pogoj : bool) : state=\n",
    "  if pogoj then jump stanje addr else proceed  stanje\n",
    "\n",
    "\n",
    "let primer_izvajanje_13 =\n",
    "  conditional_jump { empty with ip = Address 42 } (Address 10) true"
   ]
  },
  {
   "cell_type": "code",
   "execution_count": null,
   "metadata": {
    "vscode": {
     "languageId": "ocaml"
    }
   },
   "outputs": [
    {
     "data": {
      "text/plain": [
       "val primer_izvajanje_14 : state =\n",
       "  {instructions = [||]; a = 0; b = 0; c = 0; d = 0; ip = Address 43;\n",
       "   zero = false; carry = false; stack = []}\n"
      ]
     },
     "execution_count": 171,
     "metadata": {},
     "output_type": "execute_result"
    }
   ],
   "source": [
    "let primer_izvajanje_14 =\n",
    "  conditional_jump { empty with ip = Address 42 } (Address 10) false"
   ]
  },
  {
   "cell_type": "markdown",
   "metadata": {},
   "source": [
    "### Klici funkcij"
   ]
  },
  {
   "cell_type": "markdown",
   "metadata": {},
   "source": [
    "Napišite funkcijo `call : state -> address -> state`, ki v danem stanju skoči na dani naslov in na sklad doda naslednji naslov."
   ]
  },
  {
   "cell_type": "code",
   "execution_count": null,
   "metadata": {
    "vscode": {
     "languageId": "ocaml"
    }
   },
   "outputs": [
    {
     "data": {
      "text/plain": [
       "val call : state -> address -> state = <fun>\n"
      ]
     },
     "execution_count": 172,
     "metadata": {},
     "output_type": "execute_result"
    },
    {
     "data": {
      "text/plain": [
       "val primer_izvajanje_15 : state =\n",
       "  {instructions = [||]; a = 0; b = 0; c = 0; d = 0; ip = Address 10;\n",
       "   zero = false; carry = false; stack = [43]}\n"
      ]
     },
     "execution_count": 172,
     "metadata": {},
     "output_type": "execute_result"
    }
   ],
   "source": [
    "let call (stanje : state) (addr : address) =\n",
    "  let int_of_address (Address addr_2) = addr_2 in\n",
    "  let stanje_2 = push_stack stanje (int_of_address (next stanje.ip)) in\n",
    "  jump stanje_2 addr\n",
    "\n",
    "\n",
    "let primer_izvajanje_15 =\n",
    "  call { empty with ip = Address 42 } (Address 10)"
   ]
  },
  {
   "cell_type": "markdown",
   "metadata": {},
   "source": [
    "Napišite funkcijo `return : state -> state`, ki v danem stanju skoči na naslov, ki je na vrhu sklada, in odstrani ta naslov s sklada."
   ]
  },
  {
   "cell_type": "code",
   "execution_count": null,
   "metadata": {
    "vscode": {
     "languageId": "ocaml"
    }
   },
   "outputs": [
    {
     "data": {
      "text/plain": [
       "val return : state -> state = <fun>\n"
      ]
     },
     "execution_count": 173,
     "metadata": {},
     "output_type": "execute_result"
    },
    {
     "data": {
      "text/plain": [
       "val primer_izvajanje_16 : state =\n",
       "  {instructions = [||]; a = 0; b = 0; c = 0; d = 0; ip = Address 42;\n",
       "   zero = false; carry = false; stack = [43; 44]}\n"
      ]
     },
     "execution_count": 173,
     "metadata": {},
     "output_type": "execute_result"
    }
   ],
   "source": [
    "let return (stanje : state) : state =\n",
    "  let (vrhnji_naslov, nov_sklad) = pop_stack stanje in\n",
    "  { nov_sklad with ip = Address vrhnji_naslov }\n",
    "\n",
    "\n",
    "let primer_izvajanje_16 =\n",
    "  return { empty with ip = (Address 100); stack = [42; 43; 44] }"
   ]
  },
  {
   "cell_type": "markdown",
   "metadata": {},
   "source": [
    "### Izvajanje programov"
   ]
  },
  {
   "cell_type": "markdown",
   "metadata": {},
   "source": [
    "S pomočjo zgoraj definiranih funkcij dopolnite funkcijo `run_instruction : state -> instruction -> state`, ki izvede podani ukaz v danem stanju in vrne novo stanje. Za interpretacije pogojnih skokov si lahko pomagate z [navodili simulatorja](https://schweigi.github.io/assembler-simulator/instruction-set.html), ki smo ga pogledali na predavanjih."
   ]
  },
  {
   "cell_type": "code",
   "execution_count": null,
   "metadata": {
    "tags": [
     "raises-exception"
    ],
    "vscode": {
     "languageId": "ocaml"
    }
   },
   "outputs": [
    {
     "data": {
      "text/plain": [
       "val run_instruction : state -> instruction -> state = <fun>\n"
      ]
     },
     "execution_count": 174,
     "metadata": {},
     "output_type": "execute_result"
    }
   ],
   "source": [
    "let run_instruction st = function\n",
    "  | MOV (reg, exp) -> write_register st reg (read_expression st exp) |> proceed\n",
    "  | ADD (reg, exp) -> perform_binop ( + ) st reg exp |> proceed\n",
    "  | SUB (reg, exp) -> perform_binop ( - ) st reg exp |> proceed\n",
    "  | INC reg -> perform_unop succ st reg |> proceed\n",
    "  | DEC reg -> perform_unop pred st reg |> proceed\n",
    "  | MUL exp -> perform_binop ( * ) st (A) exp |> proceed  \n",
    "  | DIV exp -> perform_binop ( / ) st (A) exp |> proceed\n",
    "  (* Pozor, OCaml land/lor/lxor interpretira kot simbole, zato jih pišemo infiksno! *)\n",
    "  | AND (reg, exp) -> perform_binop ( land ) st reg exp |> proceed\n",
    "  | OR (reg, exp) -> perform_binop ( lor ) st reg exp |> proceed\n",
    "  | XOR (reg, exp) -> perform_binop ( lxor ) st reg exp |> proceed\n",
    "  | NOT reg -> perform_unop lnot st reg |> proceed\n",
    "  | CMP (reg, exp) -> \n",
    "    let vrednos_izraza = read_expression st exp in\n",
    "    let vrednos_registra = read_register st reg in\n",
    "    let st_2 = compare st vrednos_registra vrednos_izraza in\n",
    "    proceed st_2\n",
    "  | JMP add -> jump st add\n",
    "  | JA add -> conditional_jump st add (not st.carry && not st.zero)\n",
    "  | JAE add -> conditional_jump st add (not st.carry)\n",
    "  | JB add -> conditional_jump st add st.carry\n",
    "  | JBE add -> conditional_jump st add (st.zero || st.carry)\n",
    "  | JE add -> conditional_jump st add st.zero\n",
    "  | JNE add -> conditional_jump st add (not st.zero)\n",
    "  | CALL add -> call st add\n",
    "  | RET -> return st\n",
    "  | PUSH exp -> push_stack st (read_expression st exp) |> proceed\n",
    "  | POP reg ->\n",
    "      let n, st' = pop_stack st in\n",
    "      write_register st' reg n |> proceed\n",
    "  | HLT -> st"
   ]
  },
  {
   "cell_type": "markdown",
   "metadata": {},
   "source": [
    "Napišite funkcijo `run_program : state -> state`, ki izvaja ukaze v danem stanju, dokler ne naleti na ukaz `HLT` ali pa ukazni kazalec skoči ven iz ukaznega pomnilnika. Funkcija naj vrne končno stanje."
   ]
  },
  {
   "cell_type": "code",
   "execution_count": null,
   "metadata": {
    "vscode": {
     "languageId": "ocaml"
    }
   },
   "outputs": [
    {
     "data": {
      "text/plain": [
       "val run_program : state -> state = <fun>\n"
      ]
     },
     "execution_count": 175,
     "metadata": {},
     "output_type": "execute_result"
    },
    {
     "data": {
      "text/plain": [
       "val primer_izvajanje_16 : state =\n",
       "  {instructions =\n",
       "    [|JMP (Address 20); PUSH (Register C); PUSH (Register B);\n",
       "      MOV (C, Register A); CMP (A, Const 0); JE (Address 17);\n",
       "      CMP (A, Const 1); JE (Address 17); DEC C; MOV (A, Register C);\n",
       "      CALL (Address 1); MOV (B, Register A); DEC C; MOV (A, Register C);\n",
       "      CALL (Address 1); ADD (A, Register B); JMP (Address 17); POP B; \n",
       "      POP C; RET; MOV (A, Const 10); CALL (Address 1); HLT|];\n",
       "   a = 55; b = 0; c = 0; d = 0; ip = Address 22; zero = true; carry = false;\n",
       "   stack = []}\n"
      ]
     },
     "execution_count": 175,
     "metadata": {},
     "output_type": "execute_result"
    }
   ],
   "source": [
    "let rec run_program stanje =\n",
    "  match read_instruction stanje with\n",
    "  | None -> stanje  \n",
    "  | Some navodilo -> \n",
    "      let naslednje_stanje = run_instruction stanje navodilo in\n",
    "      if read_instruction naslednje_stanje = Some HLT then\n",
    "        naslednje_stanje  \n",
    "      else\n",
    "        run_program naslednje_stanje\n",
    "\n",
    "let primer_izvajanje_16 =\n",
    "  fibonacci 10\n",
    "  |> init\n",
    "  |> run_program"
   ]
  },
  {
   "cell_type": "markdown",
   "metadata": {},
   "source": [
    "## Branje zbirnika"
   ]
  },
  {
   "cell_type": "markdown",
   "metadata": {},
   "source": [
    "Da bomo programe lahko pisali v zbirniku, napišimo še funkcije za branje nizov. Predpostavljate lahko, da bodo vsi nizi pravilno oblikovani, zato v primeru napake s `failwith ...` javite ustrezno sporočilo o napaki."
   ]
  },
  {
   "cell_type": "markdown",
   "metadata": {},
   "source": [
    "### Registri in izrazi"
   ]
  },
  {
   "cell_type": "markdown",
   "metadata": {},
   "source": [
    "Napišite funkcijo `parse_register : string -> register`, ki iz niza prebere register."
   ]
  },
  {
   "cell_type": "code",
   "execution_count": null,
   "metadata": {
    "vscode": {
     "languageId": "ocaml"
    }
   },
   "outputs": [
    {
     "data": {
      "text/plain": [
       "val parse_register : string -> register = <fun>\n"
      ]
     },
     "execution_count": 176,
     "metadata": {},
     "output_type": "execute_result"
    },
    {
     "data": {
      "text/plain": [
       "val primer_branje_1 : register = A\n"
      ]
     },
     "execution_count": 176,
     "metadata": {},
     "output_type": "execute_result"
    }
   ],
   "source": [
    "let parse_register reg =\n",
    "  match String.uppercase_ascii reg with\n",
    "  | \"A\" -> A\n",
    "  | \"B\" -> B\n",
    "  | \"C\" -> C\n",
    "  | \"D\" -> D\n",
    "  | _ -> failwith (\"Ni register\")\n",
    "\n",
    "\n",
    "let primer_branje_1 = parse_register \"A\""
   ]
  },
  {
   "cell_type": "markdown",
   "metadata": {},
   "source": [
    "Napišite funkcijo `parse_expression : string -> expression`, ki iz niza prebere izraz."
   ]
  },
  {
   "cell_type": "code",
   "execution_count": null,
   "metadata": {
    "vscode": {
     "languageId": "ocaml"
    }
   },
   "outputs": [
    {
     "data": {
      "text/plain": [
       "val parse_expression : string -> expression = <fun>\n"
      ]
     },
     "execution_count": 177,
     "metadata": {},
     "output_type": "execute_result"
    },
    {
     "data": {
      "text/plain": [
       "val primer_branje_2 : expression = Register A\n"
      ]
     },
     "execution_count": 177,
     "metadata": {},
     "output_type": "execute_result"
    }
   ],
   "source": [
    "let parse_expression expr =\n",
    "  match int_of_string_opt expr with\n",
    "  | Some n -> Const n\n",
    "  | None -> Register (parse_register expr)\n",
    "\n",
    "\n",
    "let primer_branje_2 = parse_expression \"A\""
   ]
  },
  {
   "cell_type": "code",
   "execution_count": null,
   "metadata": {
    "vscode": {
     "languageId": "ocaml"
    }
   },
   "outputs": [
    {
     "data": {
      "text/plain": [
       "val primer_branje_3 : expression = Const 42\n"
      ]
     },
     "execution_count": 178,
     "metadata": {},
     "output_type": "execute_result"
    }
   ],
   "source": [
    "let primer_branje_3 = parse_expression \"42\""
   ]
  },
  {
   "cell_type": "markdown",
   "metadata": {},
   "source": [
    "### Čiščenje vrstic"
   ]
  },
  {
   "cell_type": "markdown",
   "metadata": {},
   "source": [
    "Napišite funkcijo `clean_line : string -> string`, ki iz niza odstrani vse presledke in komentarje (ki se začnejo z znakom `;`). Pri iskanju in odstranjevanju komentarjev si pomagajte z uporabo funkcij `String.index_opt` in `String.sub`."
   ]
  },
  {
   "cell_type": "code",
   "execution_count": null,
   "metadata": {
    "vscode": {
     "languageId": "ocaml"
    }
   },
   "outputs": [
    {
     "data": {
      "text/plain": [
       "val clean_line : string -> string = <fun>\n"
      ]
     },
     "execution_count": 179,
     "metadata": {},
     "output_type": "execute_result"
    },
    {
     "data": {
      "text/plain": [
       "val primer_branje_4 : string = \"MOV A, 42\"\n"
      ]
     },
     "execution_count": 179,
     "metadata": {},
     "output_type": "execute_result"
    }
   ],
   "source": [
    "let clean_line str =\n",
    "  let clean = \n",
    "    match String.index_opt str ';' with\n",
    "    | Some idx -> String.sub str 0 idx  \n",
    "    | None -> str\n",
    "  in\n",
    "  String.trim clean\n",
    "\n",
    "\n",
    "let primer_branje_4 = clean_line \"   MOV A, 42    ; To je komentar   \""
   ]
  },
  {
   "cell_type": "markdown",
   "metadata": {},
   "source": [
    "Napišite funkcijo `clean_lines : string list -> string list`, ki iz seznama nizov najprej odstrani vse komentarje in presledke, nato pa odstrani vse prazne vrstice."
   ]
  },
  {
   "cell_type": "code",
   "execution_count": null,
   "metadata": {
    "vscode": {
     "languageId": "ocaml"
    }
   },
   "outputs": [
    {
     "data": {
      "text/plain": [
       "val clean_lines : string list -> string list = <fun>\n"
      ]
     },
     "execution_count": 180,
     "metadata": {},
     "output_type": "execute_result"
    }
   ],
   "source": [
    "let clean_lines string_list =\n",
    "  string_list\n",
    "  |> List.map clean_line        \n",
    "  |> List.filter (fun str -> str <> \"\")"
   ]
  },
  {
   "cell_type": "markdown",
   "metadata": {},
   "source": [
    "### Oznake"
   ]
  },
  {
   "cell_type": "markdown",
   "metadata": {},
   "source": [
    "Kot smo navajeni iz zbirnika, skokov ne podajamo z indeksi, ampak raje v dele kode napišemo oznake kot so `main:` ali `.loop:`, nato pa se nanje sklicujemo kot `JA .loop`, `JMP main`, `CALL fib` in tako naprej. Oznake bomo hranili v seznamu, ki bo vsaki oznaki priredil ustrezen naslov v ukaznem pomnilniku."
   ]
  },
  {
   "cell_type": "markdown",
   "metadata": {},
   "source": [
    "Napišite funkcijo `parse_address : (string * address) list -> string -> address`, ki pri danem seznamu oznak iz niza prebere naslov. Naslov je lahko podan direktno s številom ali pa z eno izmed oznak v seznamu."
   ]
  },
  {
   "cell_type": "code",
   "execution_count": null,
   "metadata": {
    "vscode": {
     "languageId": "ocaml"
    }
   },
   "outputs": [
    {
     "data": {
      "text/plain": [
       "val parse_address : (string * address) list -> string -> address = <fun>\n"
      ]
     },
     "execution_count": 181,
     "metadata": {},
     "output_type": "execute_result"
    },
    {
     "data": {
      "text/plain": [
       "val primer_branje_5 : address = Address 42\n"
      ]
     },
     "execution_count": 181,
     "metadata": {},
     "output_type": "execute_result"
    }
   ],
   "source": [
    "let parse_address oznake addr =  \n",
    "  try\n",
    "    Address (int_of_string addr) \n",
    "  with Failure _ -> \n",
    "    match List.assoc_opt addr oznake with\n",
    "    | Some x -> x \n",
    "    | None -> failwith (\"Ni oznaka\" ^ addr) \n",
    "\n",
    "\n",
    "let primer_branje_5 = parse_address [(\"main\", Address 42)] \"main\""
   ]
  },
  {
   "cell_type": "code",
   "execution_count": null,
   "metadata": {
    "vscode": {
     "languageId": "ocaml"
    }
   },
   "outputs": [
    {
     "data": {
      "text/plain": [
       "val primer_branje_6 : address = Address 123\n"
      ]
     },
     "execution_count": 182,
     "metadata": {},
     "output_type": "execute_result"
    }
   ],
   "source": [
    "let primer_branje_6 = parse_address [(\"main\", Address 42)] \"123\""
   ]
  },
  {
   "cell_type": "markdown",
   "metadata": {},
   "source": [
    "Napišite funkcijo `parse_label : string -> string option`, ki vrne oznako, če se niz konča z dvopičjem, sicer pa vrne `None`."
   ]
  },
  {
   "cell_type": "code",
   "execution_count": null,
   "metadata": {
    "vscode": {
     "languageId": "ocaml"
    }
   },
   "outputs": [
    {
     "data": {
      "text/plain": [
       "val parse_label : string -> string option = <fun>\n"
      ]
     },
     "execution_count": 183,
     "metadata": {},
     "output_type": "execute_result"
    },
    {
     "data": {
      "text/plain": [
       "val primer_branje_7 : string option = Some \"main\"\n"
      ]
     },
     "execution_count": 183,
     "metadata": {},
     "output_type": "execute_result"
    }
   ],
   "source": [
    "let parse_label str =\n",
    "  let odstrani_presledke = String.trim str in\n",
    "  if String.length odstrani_presledke > 1 && String.get odstrani_presledke (String.length odstrani_presledke - 1) = ':' then\n",
    "    Some (String.sub odstrani_presledke 0 (String.length odstrani_presledke - 1))\n",
    "  else\n",
    "    None\n",
    "\n",
    "\n",
    "let primer_branje_7 = parse_label \"main:\""
   ]
  },
  {
   "cell_type": "code",
   "execution_count": null,
   "metadata": {
    "vscode": {
     "languageId": "ocaml"
    }
   },
   "outputs": [
    {
     "data": {
      "text/plain": [
       "val primer_branje_8 : string option = None\n"
      ]
     },
     "execution_count": 184,
     "metadata": {},
     "output_type": "execute_result"
    }
   ],
   "source": [
    "let primer_branje_8 = parse_label \"MOV A, 42\""
   ]
  },
  {
   "cell_type": "markdown",
   "metadata": {},
   "source": [
    "Da bomo iz kode določili oznake, napišite funkcijo `parse_labels : string list -> (string * address) list * string list`, ki iz seznama nizov, ki so bodisi oznake bodisi ukazi, izloči oznake in jim priredi naslove, ostale vrstice pa pusti nespremenjene."
   ]
  },
  {
   "cell_type": "code",
   "execution_count": null,
   "metadata": {
    "vscode": {
     "languageId": "ocaml"
    }
   },
   "outputs": [
    {
     "data": {
      "text/plain": [
       "val parse_labels : string list -> (string * address) list * string list =\n",
       "  <fun>\n"
      ]
     },
     "execution_count": 185,
     "metadata": {},
     "output_type": "execute_result"
    },
    {
     "data": {
      "text/plain": [
       "val primer_branje_9 : (string * address) list * string list =\n",
       "  ([(\"loop\", Address 2); (\"main\", Address 1)],\n",
       "   [\"JMP main\"; \"MOV A, 0\"; \"INC A\"; \"JMP loop\"])\n"
      ]
     },
     "execution_count": 185,
     "metadata": {},
     "output_type": "execute_result"
    }
   ],
   "source": [
    "let parse_labels str_lst =\n",
    "  let rec pomozna akm_znack akm_vrst trenutni_addr = function\n",
    "    | [] -> (akm_znack, List.rev akm_vrst)\n",
    "    | str :: ostanek ->\n",
    "        (match parse_label str with\n",
    "        | Some label -> pomozna ((label, Address trenutni_addr) :: akm_znack) akm_vrst trenutni_addr ostanek\n",
    "        | None -> pomozna akm_znack (str :: akm_vrst) (trenutni_addr + 1) ostanek)\n",
    "  in\n",
    "  pomozna [] [] 0 str_lst\n",
    "\n",
    "\n",
    "\n",
    "let primer_branje_9 =\n",
    "  parse_labels [\"JMP main\"; \"main:\"; \"MOV A, 0\"; \"loop:\"; \"INC A\"; \"JMP loop\"]"
   ]
  },
  {
   "cell_type": "markdown",
   "metadata": {},
   "source": [
    "Dopolnite spodnjo funkcijo `parse_instruction : (string * address) list -> string -> instruction`, ki iz niza prebere ukaz."
   ]
  },
  {
   "cell_type": "code",
   "execution_count": null,
   "metadata": {
    "vscode": {
     "languageId": "ocaml"
    }
   },
   "outputs": [
    {
     "data": {
      "text/plain": [
       "val parse_instruction : (string * address) list -> string -> instruction =\n",
       "  <fun>\n"
      ]
     },
     "execution_count": 186,
     "metadata": {},
     "output_type": "execute_result"
    }
   ],
   "source": [
    "let parse_instruction labels line =\n",
    "  let tokens =\n",
    "    line\n",
    "    |> String.split_on_char ' '\n",
    "    |> List.concat_map (String.split_on_char ',')\n",
    "    |> List.map String.trim\n",
    "    |> List.filter (fun token -> token <> \"\")\n",
    "  in\n",
    "  match tokens with\n",
    "  | [\"MOV\"; reg; exp] -> MOV (parse_register reg, parse_expression exp)\n",
    "  | [\"ADD\"; reg; exp] -> ADD (parse_register reg, parse_expression exp)\n",
    "  | [\"SUB\"; reg; exp] -> SUB (parse_register reg, parse_expression exp)\n",
    "  | [\"INC\"; reg] -> INC (parse_register reg)\n",
    "  | [\"DEC\"; reg] -> DEC (parse_register reg)\n",
    "  | [\"MUL\"; exp] -> MUL (parse_expression exp)\n",
    "  | [\"DIV\"; exp] -> DIV (parse_expression exp)\n",
    "  | [\"AND\"; reg; exp] -> AND (parse_register reg, parse_expression exp)\n",
    "  | [\"OR\"; reg; exp] -> OR (parse_register reg, parse_expression exp)\n",
    "  | [\"XOR\"; reg; exp] -> XOR (parse_register reg, parse_expression exp)\n",
    "  | [\"NOT\"; reg] -> NOT (parse_register reg)\n",
    "  | [\"CMP\"; reg; exp] -> CMP (parse_register reg, parse_expression exp)\n",
    "  | [\"JMP\"; add] -> JMP (parse_address labels add)\n",
    "  | [\"JA\"; add] -> JA (parse_address labels add)\n",
    "  | [\"JAE\"; add] -> JAE (parse_address labels add)\n",
    "  | [\"JB\"; add] -> JB (parse_address labels add)\n",
    "  | [\"JBE\"; add] -> JBE (parse_address labels add)\n",
    "  | [\"JE\"; add] -> JE (parse_address labels add)\n",
    "  | [\"JNE\"; add] -> JNE (parse_address labels add)\n",
    "  | [\"CALL\"; add] -> CALL (parse_address labels add)\n",
    "  | [\"RET\"] -> RET\n",
    "  | [\"PUSH\"; exp] -> PUSH (parse_expression exp)\n",
    "  | [\"POP\"; reg] -> POP (parse_register reg)\n",
    "  | [\"HLT\"] -> HLT\n",
    "  | _ -> failwith (\"Invalid instruction: \" ^ line)"
   ]
  },
  {
   "cell_type": "code",
   "execution_count": null,
   "metadata": {
    "vscode": {
     "languageId": "ocaml"
    }
   },
   "outputs": [
    {
     "data": {
      "text/plain": [
       "val primer_branje_10 : instruction list =\n",
       "  [MOV (A, Const 42); CALL (Address 42); HLT]\n"
      ]
     },
     "execution_count": 187,
     "metadata": {},
     "output_type": "execute_result"
    }
   ],
   "source": [
    "let primer_branje_10 =\n",
    "  List.map (parse_instruction [(\"main\", Address 42)]) [\"MOV A, 42\"; \"CALL main\"; \"HLT\"]"
   ]
  },
  {
   "cell_type": "markdown",
   "metadata": {},
   "source": [
    "S pomočjo zgoraj napisanih funkcij sestavite funkcijo `run : string -> state`, ki niz razbije na vrstice, prebere ukaze in oznake ter pripravi začetno stanje, nato pa program izvaja vse dokler ne naleti na ukaz `HLT`. Po klicu naj funkcija vrne končno stanje."
   ]
  },
  {
   "cell_type": "code",
   "execution_count": null,
   "metadata": {
    "vscode": {
     "languageId": "ocaml"
    }
   },
   "outputs": [
    {
     "data": {
      "text/plain": [
       "val run : string -> state = <fun>\n"
      ]
     },
     "execution_count": 189,
     "metadata": {},
     "output_type": "execute_result"
    },
    {
     "data": {
      "text/plain": [
       "val fibonacci : string =\n",
       "  \"\\n  JMP main\\n  ; Funkcija, ki izračuna fib(A) in vrednost shrani v register A\\n  fib:\\n      ; Shranimo vrednosti registrov\\n      PUSH C\\n      PUSH B\\n  \\n      ; V C shranimo začetno vrednost A\\n      MOV C, A\\n  \\n      ; Če je A = 0, je to tudi rezultat\\n      CMP A, 0\\n      JE .fib_end\\n  \\n      ; Če\"... (* string length 872; truncated *)\n"
      ]
     },
     "execution_count": 189,
     "metadata": {},
     "output_type": "execute_result"
    }
   ],
   "source": [
    "let run program =\n",
    "    let vrstice = String.split_on_char '\\n' program in\n",
    "    let seznam_ociscenih_vrstic = clean_lines vrstice in\n",
    "    let znacke, instructions = parse_labels seznam_ociscenih_vrstic in\n",
    "    let parsed_instructions = List.map (parse_instruction znacke) instructions in\n",
    "  \n",
    "    run_program {empty with instructions = Array.of_list parsed_instructions}\n",
    "  \n",
    "\n",
    "\n",
    "let fibonacci = {|\n",
    "  JMP main\n",
    "  ; Funkcija, ki izračuna fib(A) in vrednost shrani v register A\n",
    "  fib:\n",
    "      ; Shranimo vrednosti registrov\n",
    "      PUSH C\n",
    "      PUSH B\n",
    "  \n",
    "      ; V C shranimo začetno vrednost A\n",
    "      MOV C, A\n",
    "  \n",
    "      ; Če je A = 0, je to tudi rezultat\n",
    "      CMP A, 0\n",
    "      JE .fib_end\n",
    "  \n",
    "      ; Če je A = 1, je to tudi rezultat\n",
    "      CMP A, 1\n",
    "      JE .fib_end\n",
    "  \n",
    "      ; V nasprotnem primeru najprej izračunamo fib(A - 1) in ga shranimo v B\n",
    "      DEC C\n",
    "      MOV A, C\n",
    "      CALL fib\n",
    "      MOV B, A\n",
    "  \n",
    "      ; Nato izračunamo še fib(A - 2) in ga shranimo v A\n",
    "      DEC C\n",
    "      MOV A, C\n",
    "      CALL fib\n",
    "      \n",
    "      ; Nazadnje k A prištejemo še B, s čimer dobimo končni rezultat\n",
    "      ADD A, B\n",
    "      JMP .fib_end\n",
    "  \n",
    "  .fib_end:\n",
    "      ; Povrnemo vrednosti registrov in vrnemo rezultat\n",
    "      POP B\n",
    "      POP C\n",
    "      RET\n",
    "  \n",
    "  main:\n",
    "      MOV A, 7\n",
    "      CALL fib\n",
    "  HLT\n",
    "|}"
   ]
  },
  {
   "cell_type": "code",
   "execution_count": null,
   "metadata": {
    "vscode": {
     "languageId": "ocaml"
    }
   },
   "outputs": [
    {
     "data": {
      "text/plain": [
       "val primer_branje_11 : state =\n",
       "  {instructions =\n",
       "    [|JMP (Address 20); PUSH (Register C); PUSH (Register B);\n",
       "      MOV (C, Register A); CMP (A, Const 0); JE (Address 17);\n",
       "      CMP (A, Const 1); JE (Address 17); DEC C; MOV (A, Register C);\n",
       "      CALL (Address 1); MOV (B, Register A); DEC C; MOV (A, Register C);\n",
       "      CALL (Address 1); ADD (A, Register B); JMP (Address 17); POP B; \n",
       "      POP C; RET; MOV (A, Const 7); CALL (Address 1); HLT|];\n",
       "   a = 13; b = 0; c = 0; d = 0; ip = Address 22; zero = true; carry = false;\n",
       "   stack = []}\n"
      ]
     },
     "execution_count": 190,
     "metadata": {},
     "output_type": "execute_result"
    }
   ],
   "source": [
    "let primer_branje_11 =\n",
    "  run fibonacci"
   ]
  }
 ],
 "metadata": {
  "kernelspec": {
   "display_name": "OCaml 4.14",
   "language": "OCaml",
   "name": "ocaml-jupyter"
  },
  "language_info": {
   "codemirror_mode": "text/x-ocaml",
   "file_extension": ".ml",
   "mimetype": "text/x-ocaml",
   "name": "OCaml",
   "nbconverter_exporter": null,
   "pygments_lexer": "OCaml",
   "version": "4.14.2"
  }
 },
 "nbformat": 4,
 "nbformat_minor": 2
}
