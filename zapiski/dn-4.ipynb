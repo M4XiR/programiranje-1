{
 "cells": [
  {
   "cell_type": "markdown",
   "metadata": {
    "vscode": {
     "languageId": "ocaml"
    }
   },
   "source": [
    "# 4. domača naloga"
   ]
  },
  {
   "cell_type": "markdown",
   "metadata": {},
   "source": [
    "Pri tej nalogi boste napisali svoj simulator Turingovih strojev. Zaradi preprostosti bomo za abecedo vzeli kar znake tipa `char`, za prazni znak bomo izbrali presledek `' '`, stanja pa bomo predstavili z nizi. Za možne premike zafiksiramo tip `direction`:"
   ]
  },
  {
   "cell_type": "code",
   "execution_count": 22,
   "metadata": {
    "vscode": {
     "languageId": "ocaml"
    }
   },
   "outputs": [
    {
     "data": {
      "text/plain": [
       "type direction = Left | Right\n"
      ]
     },
     "execution_count": 22,
     "metadata": {},
     "output_type": "execute_result"
    },
    {
     "data": {
      "text/plain": [
       "type state = string\n"
      ]
     },
     "execution_count": 22,
     "metadata": {},
     "output_type": "execute_result"
    }
   ],
   "source": [
    "type direction = Left | Right\n",
    "type state = string"
   ]
  },
  {
   "cell_type": "markdown",
   "metadata": {},
   "source": [
    "## Implementacija trakov"
   ]
  },
  {
   "cell_type": "markdown",
   "metadata": {},
   "source": [
    "Napišite modul `Tape`, ki implementira spodnjo signaturo, kjer je:\n",
    "\n",
    "- `t` tip v obe smeri neomejenih trakov in glavo na danem mestu;\n",
    "- `make`, ki naredi nov trak z znaki iz niza ter glavo na prvem znaku;\n",
    "- `read`, ki vrne znak pod glavo;\n",
    "- `write`, ki pod glavo zapiše dani znak;\n",
    "- `move`, ki glavo premakne v dano smer;\n",
    "- `print`, ki izpiše vsebino traku (brez presledkov na začetku in koncu) ter pod njim z `^` označi mesto glave.\n",
    "\n",
    "Zadnji dve funkciji naj vrneta nov trak, obstoječega pa naj pustita nespremenjenega.\n",
    "\n",
    "Ker je tip `t` abstrakten, si lahko privoščite poljubno implementacijo, zato poskrbite tako za učinkovitost kot za preglednost kode."
   ]
  },
  {
   "cell_type": "code",
   "execution_count": 23,
   "metadata": {
    "vscode": {
     "languageId": "ocaml"
    }
   },
   "outputs": [
    {
     "data": {
      "text/plain": [
       "module type TAPE =\n",
       "  sig\n",
       "    type t\n",
       "    val make : string -> t\n",
       "    val move : direction -> t -> t\n",
       "    val read : t -> char\n",
       "    val write : char -> t -> t\n",
       "    val print : t -> unit\n",
       "  end\n"
      ]
     },
     "execution_count": 23,
     "metadata": {},
     "output_type": "execute_result"
    },
    {
     "data": {
      "text/plain": [
       "val string_to_list : string -> char list = <fun>\n"
      ]
     },
     "execution_count": 23,
     "metadata": {},
     "output_type": "execute_result"
    },
    {
     "data": {
      "text/plain": [
       "val test1 : char list = ['b'; 'r'; 'a'; 'z'; 'i'; 'l'; 'i'; 'j'; 'a']\n"
      ]
     },
     "execution_count": 23,
     "metadata": {},
     "output_type": "execute_result"
    },
    {
     "data": {
      "text/plain": [
       "module Tape : TAPE\n"
      ]
     },
     "execution_count": 23,
     "metadata": {},
     "output_type": "execute_result"
    }
   ],
   "source": [
    "module type TAPE = sig\n",
    "  type t\n",
    "\n",
    "  val make : string -> t\n",
    "  val move : direction -> t -> t\n",
    "  val read : t -> char\n",
    "  val write : char -> t -> t\n",
    "  val print : t -> unit\n",
    "end\n",
    "\n",
    "let string_to_list str = List.init (String.length str) (String.get str)\n",
    "\n",
    "let test1 = string_to_list \"brazilija\"\n",
    "\n",
    "module Tape : TAPE = struct\n",
    "  type t = {levo : char list; glava : char; desno : char list}\n",
    "  \n",
    "  \n",
    "\n",
    "  let make (str : string) = \n",
    "    let sez = string_to_list str in \n",
    "    match  sez with\n",
    "  | [] -> {levo = []; glava = ' '; desno = []}\n",
    "  | x::xs -> {levo = []; glava = x; desno = xs}\n",
    "\n",
    "  let move (smer : direction) (tape : t) = \n",
    "    match smer with\n",
    "    |Left -> \n",
    "      (match tape.levo with\n",
    "      | [] -> {levo = []; glava= ' '; desno = tape.glava :: tape.desno}\n",
    "      | x::xs -> {levo = xs ; glava = x; desno = tape.glava :: tape.desno})\n",
    "      \n",
    "    |Right -> \n",
    "      (match tape.desno with\n",
    "      |[] -> {levo = tape.glava :: tape.levo; glava = ' '; desno = []}\n",
    "      |x::xs -> {levo = tape.glava :: tape.levo; glava = x; desno = xs})\n",
    "      \n",
    "  let read tape = tape.glava\n",
    "\n",
    "  let write char tape = {tape with glava = char}\n",
    "\n",
    "  let print tape =\n",
    "    let rec odstrani_zacetne_presledke = function\n",
    "      | ' ' :: xs -> odstrani_zacetne_presledke xs\n",
    "      | xs -> xs\n",
    "    in\n",
    "    let levi_sez = odstrani_zacetne_presledke (List.rev tape.levo) in\n",
    "    let celoten_sez = levi_sez @ [tape.glava] @ tape.desno in\n",
    "    let sez_to_str = String.concat \"\" (List.map (String.make 1) celoten_sez) in\n",
    "    let pozicija_glave = String.length (String.concat \"\" (List.map (String.make 1) levi_sez)) in\n",
    "    let kazalec =  String.make pozicija_glave ' ' ^ \"^\" in\n",
    "    print_endline sez_to_str; \n",
    "    print_endline kazalec\n",
    "end"
   ]
  },
  {
   "cell_type": "code",
   "execution_count": 24,
   "metadata": {
    "vscode": {
     "languageId": "ocaml"
    }
   },
   "outputs": [
    {
     "name": "stdout",
     "output_type": "stream",
     "text": [
      "AB!DE\n",
      "  ^\n"
     ]
    },
    {
     "data": {
      "text/plain": [
       "val primer_trak : unit = ()\n"
      ]
     },
     "execution_count": 24,
     "metadata": {},
     "output_type": "execute_result"
    }
   ],
   "source": [
    "let primer_trak = Tape.(\n",
    "  make \"ABCDE\"\n",
    "  |> move Left\n",
    "  |> move Left\n",
    "  |> move Right\n",
    "  |> move Right\n",
    "  |> move Right\n",
    "  |> move Right\n",
    "  |> write '!'\n",
    "  |> print\n",
    ")"
   ]
  },
  {
   "cell_type": "markdown",
   "metadata": {
    "vscode": {
     "languageId": "ocaml"
    }
   },
   "source": [
    "## Implementacija Turingovih strojev"
   ]
  },
  {
   "cell_type": "markdown",
   "metadata": {},
   "source": [
    "Napišite modul `Machine`, ki implementira spodnjo signaturo, kjer je:\n",
    "\n",
    "- `t` tip Turingovih strojev;\n",
    "- `make`, ki naredi nov stroj z danim začetnim stanjem in seznamom preostalih stanj ter prazno prehodno funkcijo;\n",
    "- `initial`, ki vrne začetno stanje stroja;\n",
    "- `add_transition`, ki prehodno funkcijo razširi s prehodom $(q, a) \\mapsto (q', a', d)$;\n",
    "- `step`, ki za dano stanje in trak izvede en korak stroja, če je to mogoče.\n",
    "\n",
    "Zadnji dve funkciji naj vrneta spremenjene vrednosti, obstoječe argumente pa naj pustita nespremenjene. Prav tako pri zadnjih dveh funkcijah lahko predpostavite, da ju bomo klicali le na poprej podanih stanjih.\n",
    "\n",
    "Tudi tu je tip `t` abstrakten, zato poskrbite za učinkovitost in preglednost kode."
   ]
  },
  {
   "cell_type": "code",
   "execution_count": 25,
   "metadata": {
    "vscode": {
     "languageId": "ocaml"
    }
   },
   "outputs": [
    {
     "data": {
      "text/plain": [
       "module type MACHINE =\n",
       "  sig\n",
       "    type t\n",
       "    val make : state -> state list -> t\n",
       "    val initial : t -> state\n",
       "    val add_transition :\n",
       "      state -> char -> state -> char -> direction -> t -> t\n",
       "    val step : t -> state -> Tape.t -> (state * Tape.t) option\n",
       "  end\n"
      ]
     },
     "execution_count": 25,
     "metadata": {},
     "output_type": "execute_result"
    },
    {
     "data": {
      "text/plain": [
       "module type MACHINE =\n",
       "  sig\n",
       "    type t\n",
       "    val make : state -> state list -> t\n",
       "    val initial : t -> state\n",
       "    val add_transition :\n",
       "      state -> char -> state -> char -> direction -> t -> t\n",
       "    val step : t -> state -> Tape.t -> (state * Tape.t) option\n",
       "  end\n"
      ]
     },
     "execution_count": 25,
     "metadata": {},
     "output_type": "execute_result"
    },
    {
     "data": {
      "text/plain": [
       "module Machine : MACHINE\n"
      ]
     },
     "execution_count": 25,
     "metadata": {},
     "output_type": "execute_result"
    }
   ],
   "source": [
    "module type MACHINE = sig\n",
    "  type t\n",
    "  val make : state -> state list -> t\n",
    "  val initial : t -> state\n",
    "  val add_transition : state -> char -> state -> char -> direction -> t -> t\n",
    "  val step : t -> state -> Tape.t -> (state * Tape.t) option\n",
    "end\n",
    "\n",
    "\n",
    "module type MACHINE = sig\n",
    "  type t\n",
    "  val make : state -> state list -> t\n",
    "  val initial : t -> state\n",
    "  val add_transition : state -> char -> state -> char -> direction -> t -> t\n",
    "  val step : t -> state -> Tape.t -> (state * Tape.t) option\n",
    "end\n",
    "\n",
    "module Machine : MACHINE = struct\n",
    "  module TransitionMap = Map.Make(struct\n",
    "    type t = state * char\n",
    "    let compare = compare\n",
    "  end)\n",
    "\n",
    "  type t = {\n",
    "    initial_state : state;\n",
    "    states : state list;\n",
    "    transitions : (state * char * direction) TransitionMap.t;\n",
    "  }\n",
    "\n",
    "  let make initial_state states =\n",
    "    { initial_state; states; transitions = TransitionMap.empty }\n",
    "\n",
    "  let initial machine = machine.initial_state\n",
    "\n",
    "  let add_transition current_state char next_state write_char direction machine =\n",
    "    let key = (current_state, char) in\n",
    "    let value = (next_state, write_char, direction) in\n",
    "    { machine with transitions = TransitionMap.add key value machine.transitions }\n",
    "\n",
    "  let step machine current_state tape =\n",
    "    let char_under_head = Tape.read tape in\n",
    "    let key = (current_state, char_under_head) in\n",
    "    match TransitionMap.find_opt key machine.transitions with\n",
    "    | None -> None\n",
    "    | Some (next_state, write_char, direction) ->\n",
    "        let new_tape = tape |> Tape.write write_char |> Tape.move direction in\n",
    "        Some (next_state, new_tape)\n",
    "end\n"
   ]
  },
  {
   "cell_type": "markdown",
   "metadata": {
    "vscode": {
     "languageId": "ocaml"
    }
   },
   "source": [
    "Primer stroja \"Binary Increment\" na <http://turingmachine.io> lahko implementiramo kot:"
   ]
  },
  {
   "cell_type": "code",
   "execution_count": 26,
   "metadata": {
    "vscode": {
     "languageId": "ocaml"
    }
   },
   "outputs": [
    {
     "data": {
      "text/plain": [
       "val binary_increment : Machine.t = <abstr>\n"
      ]
     },
     "execution_count": 26,
     "metadata": {},
     "output_type": "execute_result"
    }
   ],
   "source": [
    "let binary_increment =\n",
    "  Machine.(\n",
    "    make \"right\" [ \"carry\"; \"done\" ]\n",
    "    |> add_transition \"right\" '1' \"right\" '1' Right\n",
    "    |> add_transition \"right\" '0' \"right\" '0' Right\n",
    "    |> add_transition \"right\" ' ' \"carry\" ' ' Left\n",
    "    |> add_transition \"carry\" '1' \"carry\" '0' Left\n",
    "    |> add_transition \"carry\" '0' \"done\" '1' Left\n",
    "    |> add_transition \"carry\" ' ' \"done\" '1' Left\n",
    "  )\n"
   ]
  },
  {
   "cell_type": "markdown",
   "metadata": {
    "vscode": {
     "languageId": "ocaml"
    }
   },
   "source": [
    "Zapišite funkciji `slow_run` in `speed_run` tipa `Machine.t -> str -> unit`, ki simulirata Turingov stroj na traku, na katerem je na začetku zapisan dani niz. Prva naj izpiše trakove in stanja pri vseh vmesnih korakih, druga pa naj izpiše le končni trak. Slednjo bomo uporabljali tudi pri meritvi učinkovitosti izvajanja."
   ]
  },
  {
   "cell_type": "code",
   "execution_count": 27,
   "metadata": {
    "vscode": {
     "languageId": "ocaml"
    }
   },
   "outputs": [
    {
     "data": {
      "text/plain": [
       "val slow_run : Machine.t -> string -> unit = <fun>\n"
      ]
     },
     "execution_count": 27,
     "metadata": {},
     "output_type": "execute_result"
    },
    {
     "name": "stdout",
     "output_type": "stream",
     "text": [
      "1011\n",
      "^\n",
      "right\n",
      "1011\n",
      " ^\n",
      "right\n",
      "1011\n",
      "  ^\n",
      "right\n",
      "1011\n",
      "   ^\n",
      "right\n",
      "1011 \n",
      "    ^\n",
      "right\n",
      "1011 \n",
      "   ^\n",
      "carry\n",
      "1010 \n",
      "  ^\n",
      "carry\n",
      "1000 \n",
      " ^\n",
      "carry\n",
      "1100 \n",
      "^\n",
      "done\n"
     ]
    },
    {
     "data": {
      "text/plain": [
       "val primer_slow_run : unit = ()\n"
      ]
     },
     "execution_count": 27,
     "metadata": {},
     "output_type": "execute_result"
    }
   ],
   "source": [
    "let slow_run machine input =\n",
    "  let rec aux state tape =\n",
    "    Tape.print tape;\n",
    "    print_endline state;\n",
    "    match Machine.step machine state tape with\n",
    "    | None -> () \n",
    "    | Some (next_state, next_tape) -> aux next_state next_tape\n",
    "  in\n",
    "  let tape = Tape.make input in\n",
    "  aux (Machine.initial machine) tape\n",
    "\n",
    "let primer_slow_run =\n",
    "  slow_run binary_increment \"1011\""
   ]
  },
  {
   "cell_type": "code",
   "execution_count": 28,
   "metadata": {
    "vscode": {
     "languageId": "ocaml"
    }
   },
   "outputs": [
    {
     "data": {
      "text/plain": [
       "val speed_run : Machine.t -> string -> unit = <fun>\n"
      ]
     },
     "execution_count": 28,
     "metadata": {},
     "output_type": "execute_result"
    },
    {
     "name": "stdout",
     "output_type": "stream",
     "text": [
      "1100 \n",
      "^\n"
     ]
    },
    {
     "data": {
      "text/plain": [
       "val primer_speed_run : unit = ()\n"
      ]
     },
     "execution_count": 28,
     "metadata": {},
     "output_type": "execute_result"
    }
   ],
   "source": [
    "\n",
    "let speed_run machine input =\n",
    "  let rec aux state tape =\n",
    "    match Machine.step machine state tape with\n",
    "    | None -> tape \n",
    "    | Some (next_state, next_tape) -> aux next_state next_tape\n",
    "  in\n",
    "  let tape = Tape.make input in\n",
    "  let final_tape = aux (Machine.initial machine) tape in\n",
    "  Tape.print final_tape\n",
    "\n",
    "let primer_speed_run =\n",
    "  speed_run binary_increment \"1011\""
   ]
  },
  {
   "cell_type": "markdown",
   "metadata": {},
   "source": [
    "## Krajši zapis"
   ]
  },
  {
   "cell_type": "markdown",
   "metadata": {},
   "source": [
    "Ko definiramo Turingov stroj, prehode običajno združujemo najprej po stanjih, nato pa še po znakih. Prav tako pri dosti prehodih samo premikamo glavo, trak in stanje pa pustimo pri miru. Zapišite funkcije:\n",
    "\n",
    "- `for_state`\n",
    "- `for_character`\n",
    "- `for_characters`\n",
    "- `move`\n",
    "- `switch_and_move`\n",
    "- `write_and_move`\n",
    "- `write_switch_and_move`\n",
    "\n",
    "s katerimi bi lahko zgornji primer na krajše zapisali kot spodaj. Implementacijo in tipe ugotovite sami."
   ]
  },
  {
   "cell_type": "code",
   "execution_count": 29,
   "metadata": {
    "vscode": {
     "languageId": "ocaml"
    }
   },
   "outputs": [
    {
     "data": {
      "text/plain": [
       "val for_state : 'a -> ('a -> 'b -> 'b) list list -> 'b -> 'b = <fun>\n"
      ]
     },
     "execution_count": 29,
     "metadata": {},
     "output_type": "execute_result"
    },
    {
     "data": {
      "text/plain": [
       "val for_character : 'a -> ('a -> 'b) -> 'b list = <fun>\n"
      ]
     },
     "execution_count": 29,
     "metadata": {},
     "output_type": "execute_result"
    },
    {
     "data": {
      "text/plain": [
       "val for_characters : string -> (char -> 'a) -> 'a list = <fun>\n"
      ]
     },
     "execution_count": 29,
     "metadata": {},
     "output_type": "execute_result"
    },
    {
     "data": {
      "text/plain": [
       "val move : direction -> char -> state -> Machine.t -> Machine.t = <fun>\n"
      ]
     },
     "execution_count": 29,
     "metadata": {},
     "output_type": "execute_result"
    },
    {
     "data": {
      "text/plain": [
       "val switch_and_move :\n",
       "  state -> direction -> char -> state -> Machine.t -> Machine.t = <fun>\n"
      ]
     },
     "execution_count": 29,
     "metadata": {},
     "output_type": "execute_result"
    },
    {
     "data": {
      "text/plain": [
       "val write_and_move :\n",
       "  char -> direction -> char -> state -> Machine.t -> Machine.t = <fun>\n"
      ]
     },
     "execution_count": 29,
     "metadata": {},
     "output_type": "execute_result"
    },
    {
     "data": {
      "text/plain": [
       "val write_switch_and_move :\n",
       "  char -> state -> direction -> char -> state -> Machine.t -> Machine.t =\n",
       "  <fun>\n"
      ]
     },
     "execution_count": 29,
     "metadata": {},
     "output_type": "execute_result"
    },
    {
     "data": {
      "text/plain": [
       "val binary_increment' : Machine.t = <abstr>\n"
      ]
     },
     "execution_count": 29,
     "metadata": {},
     "output_type": "execute_result"
    }
   ],
   "source": [
    "let for_state state functions_list machine = \n",
    "  let rec apply_functions m = \n",
    "    function\n",
    "    | [] -> m\n",
    "    | f :: fs -> apply_functions (f state m) fs\n",
    "  in\n",
    "  apply_functions machine (List.flatten functions_list)\n",
    "\n",
    "let for_character char action = \n",
    "  [action char]\n",
    "\n",
    "let for_characters chars action =\n",
    "  let rec aux index acc =\n",
    "    if index < 0 then acc\n",
    "    else\n",
    "      let char = String.get chars index in\n",
    "      aux (index - 1) ((action char) :: acc)\n",
    "  in\n",
    "  aux (String.length chars - 1) []\n",
    "\n",
    "let move direction char state = \n",
    "  fun machine -> Machine.add_transition state char state char direction machine\n",
    "\n",
    "let switch_and_move new_state direction char current_state = \n",
    "  fun machine -> Machine.add_transition current_state char new_state char direction machine\n",
    "\n",
    "let write_and_move write_char direction read_char state = \n",
    "  fun machine -> Machine.add_transition state read_char state write_char direction machine\n",
    "\n",
    "let write_switch_and_move write_char new_state direction read_char current_state = \n",
    "  fun machine -> Machine.add_transition current_state read_char new_state write_char direction machine\n",
    "\n",
    "\n",
    "\n",
    "\n",
    "\n",
    "\n",
    "let binary_increment' =\n",
    "  Machine.make \"right\" [\"carry\"; \"done\"]\n",
    "  |> for_state \"right\" [\n",
    "    for_characters \"01\" @@ move Right;\n",
    "    for_character ' ' @@ switch_and_move \"carry\" Left\n",
    "  ]\n",
    "  |> for_state \"carry\" [\n",
    "    for_character '1' @@ switch_and_move \"carry\" Left;\n",
    "    for_characters \"0 \" @@ write_switch_and_move '1' \"done\" Left\n",
    "  ]  "
   ]
  },
  {
   "cell_type": "markdown",
   "metadata": {},
   "source": [
    "## Primeri Turingovih strojev"
   ]
  },
  {
   "cell_type": "markdown",
   "metadata": {
    "vscode": {
     "languageId": "ocaml"
    }
   },
   "source": [
    "Pri tej nalogi boste sestavljali stroje, ki bodo iz začetnega niza na traku na različne načine izračunali nov niz. Pri tem lahko predpostavite, da je začetni niz sestavljen iz ničel in enic, preostanek traku pa je prazen. Na koncu izvajanja naj bo glava na začetku novega niza, z izjemo tega niza pa naj bo trak prazen. Ni pa treba, da se izračunani niz začne na istem mestu na traku, kot se je začel prvotni niz."
   ]
  },
  {
   "cell_type": "markdown",
   "metadata": {
    "vscode": {
     "languageId": "ocaml"
    }
   },
   "source": [
    "### Obračanje niza\n"
   ]
  },
  {
   "cell_type": "markdown",
   "metadata": {},
   "source": [
    "Sestavite Turingov stroj, ki začetni niz obrne na glavo."
   ]
  },
  {
   "cell_type": "code",
   "execution_count": 30,
   "metadata": {
    "vscode": {
     "languageId": "ocaml"
    }
   },
   "outputs": [
    {
     "data": {
      "text/plain": [
       "val reverse : Machine.t = <abstr>\n"
      ]
     },
     "execution_count": 30,
     "metadata": {},
     "output_type": "execute_result"
    },
    {
     "name": "stdout",
     "output_type": "stream",
     "text": [
      "1001110000 \n",
      "^\n"
     ]
    },
    {
     "data": {
      "text/plain": [
       "val primer_reverse : unit = ()\n"
      ]
     },
     "execution_count": 30,
     "metadata": {},
     "output_type": "execute_result"
    }
   ],
   "source": [
    "let reverse =\n",
    "  Machine.make \"primi_in_pojdi_desno\" [\"desno_do_pravega_znaka0\";\"desno_do_pravega_znaka1\"; \"levo_do_pravega_znaka0\";\n",
    "   \"obrnil_sem_levo_in_napisal_0\"; \n",
    "  \"obrnil_sem_levo_in_napisal_1\"; \"obrnil_sem_desno_in_napisal_0\"; \"obrnil_sem_desno_in_napisal_1\" ;\n",
    "  \"do_konca_v_desno_da_popravim\";\"levo_do_pravega_znaka1\";\"popravi\";\"done\"]\n",
    "\n",
    "    |> for_state \"primi_in_pojdi_desno\" [\n",
    "         for_character '0' @@ switch_and_move \"desno_do_pravega_znaka0\" Right;\n",
    "         for_character '1' @@ switch_and_move \"desno_do_pravega_znaka1\" Right;\n",
    "         for_characters \"#*\" @@ switch_and_move \"do_konca_v_desno_da_popravim\" Right;\n",
    "       ]\n",
    "    |> for_state \"desno_do_pravega_znaka0\" [\n",
    "         for_characters \"01\" @@ move Right;\n",
    "         for_characters \"#* \" @@ switch_and_move \"obrnil_sem_levo_in_napisal_0\" Left\n",
    "       ]\n",
    "    |> for_state \"desno_do_pravega_znaka1\" [\n",
    "         for_characters \"01\" @@ move Right;\n",
    "         for_characters \"#* \" @@ switch_and_move \"obrnil_sem_levo_in_napisal_1\" Left\n",
    "       ]\n",
    "    |> for_state \"levo_do_pravega_znaka0\" [\n",
    "         for_characters \"01\" @@ move Left;\n",
    "         for_characters \"#* \" @@ switch_and_move \"obrnil_sem_desno_in_napisal_0\" Right\n",
    "       ]\n",
    "    |> for_state \"levo_do_pravega_znaka1\" [\n",
    "         for_characters \"01\" @@ move Left;\n",
    "         for_characters \"#* \" @@ switch_and_move \"obrnil_sem_desno_in_napisal_1\" Right\n",
    "       ]\n",
    "    |> for_state \"obrnil_sem_levo_in_napisal_0\" [\n",
    "         for_character '1' @@ write_switch_and_move '#' \"levo_do_pravega_znaka1\" Left;\n",
    "         for_character '0' @@ write_switch_and_move '#' \"levo_do_pravega_znaka0\" Left;\n",
    "         for_characters \"#*\" @@ switch_and_move \"do_konca_v_desno_da_popravim\" Right;\n",
    "       ]\n",
    "    |> for_state \"obrnil_sem_levo_in_napisal_1\" [\n",
    "         for_character '1' @@ write_switch_and_move '*' \"levo_do_pravega_znaka1\" Left;\n",
    "         for_character '0' @@ write_switch_and_move '*' \"levo_do_pravega_znaka0\" Left;\n",
    "         for_characters \"#*\" @@ switch_and_move \"do_konca_v_desno_da_popravim\" Right\n",
    "       ]\n",
    "    |> for_state \"obrnil_sem_desno_in_napisal_0\" [\n",
    "         for_characters \"10\" @@ write_switch_and_move '#' \"primi_in_pojdi_desno\" Right;\n",
    "         for_characters \"#*\" @@ switch_and_move \"do_konca_v_desno_da_popravim\" Right;\n",
    "       ]\n",
    "    |> for_state \"obrnil_sem_desno_in_napisal_1\" [\n",
    "         for_characters \"10\" @@ write_switch_and_move '*' \"primi_in_pojdi_desno\" Right;\n",
    "         for_characters \"#*\" @@ switch_and_move \"do_konca_v_desno_da_popravim\" Right\n",
    "       ]\n",
    "    |> for_state \"do_konca_v_desno_da_popravim\" [\n",
    "         for_characters \"01#*\" @@ move Right;\n",
    "         for_character ' ' @@ switch_and_move \"popravi\" Left\n",
    "       ]\n",
    "    |> for_state \"popravi\" [\n",
    "         for_character '#' @@ write_and_move '0' Left;\n",
    "         for_character '*' @@ write_and_move '1' Left;\n",
    "         for_character ' ' @@ switch_and_move \"done\" Right\n",
    "       ]\n",
    "\n",
    "\n",
    "let primer_reverse = speed_run reverse \"0000111001\""
   ]
  },
  {
   "cell_type": "markdown",
   "metadata": {},
   "source": [
    "### Podvajanje niza\n"
   ]
  },
  {
   "cell_type": "markdown",
   "metadata": {},
   "source": [
    "Sestavite Turingov stroj, ki podvoji začetni niz."
   ]
  },
  {
   "cell_type": "code",
   "execution_count": 31,
   "metadata": {
    "vscode": {
     "languageId": "ocaml"
    }
   },
   "outputs": [
    {
     "data": {
      "text/plain": [
       "val duplicate : Machine.t = <abstr>\n"
      ]
     },
     "execution_count": 31,
     "metadata": {},
     "output_type": "execute_result"
    },
    {
     "name": "stdout",
     "output_type": "stream",
     "text": [
      "001100001111 \n",
      "^\n"
     ]
    },
    {
     "data": {
      "text/plain": [
       "val primer_duplicate : unit = ()\n"
      ]
     },
     "execution_count": 31,
     "metadata": {},
     "output_type": "execute_result"
    }
   ],
   "source": [
    "\n",
    "let duplicate = \n",
    "  Machine.make \"desno_do_konca\" [\"premakni_znak_ena_desno\";\"desno_kopiram_1\";\"desno_kopiram_0\";\"preskoci_1_levo\";\"zacni_znova\";\"podvojil_sem_1\";\"podvojil_sem_0\";\"popravi\";\"done\"]\n",
    "\n",
    " |> for_state \"desno_do_konca\" [\n",
    "      for_character ' ' @@ switch_and_move \"premakni_znak_ena_desno\" Left;\n",
    "      for_characters \"01\" @@ move Right;\n",
    "    ]\n",
    " |> for_state \"premakni_znak_ena_desno\" [\n",
    "      for_character '1' @@ switch_and_move \"desno_kopiram_1\" Right;\n",
    "      for_character '0' @@ switch_and_move \"desno_kopiram_0\" Right;\n",
    "      for_characters \" #*\" @@ switch_and_move \"zacni_znova\" Right;\n",
    "    ]\n",
    " |> for_state \"desno_kopiram_1\" [\n",
    "      for_characters \"01 \" @@ write_switch_and_move '1' \"preskoci_1_levo\" Left;\n",
    "    ]\n",
    " |> for_state \"desno_kopiram_0\" [\n",
    "      for_characters \"01 \" @@ write_switch_and_move '0' \"preskoci_1_levo\" Left;\n",
    "    ]\n",
    " |> for_state \"preskoci_1_levo\" [\n",
    "      for_characters \"01 \" @@ switch_and_move \"premakni_znak_ena_desno\" Left;\n",
    "    ]\n",
    " |> for_state \"zacni_znova\" [\n",
    "      for_character '1' @@ switch_and_move \"podvojil_sem_1\" Right;\n",
    "      for_character '0' @@ switch_and_move \"podvojil_sem_0\" Right;\n",
    "      for_character ' ' @@ switch_and_move \"popravi\" Left;\n",
    "    ]\n",
    " |> for_state \"podvojil_sem_1\" [\n",
    "      for_characters \"1\" @@ write_switch_and_move '#' \"desno_do_konca\" Right;\n",
    "    ]\n",
    " |> for_state \"podvojil_sem_0\" [\n",
    "      for_characters \"0\" @@ write_switch_and_move '*' \"desno_do_konca\" Right;\n",
    "    ]\n",
    " |> for_state \"popravi\" [\n",
    "      for_character '#' @@ write_and_move '1' Left;\n",
    "      for_character '*' @@ write_and_move '0' Left;\n",
    "      for_characters \"01\" @@ move Left;\n",
    "      for_character ' ' @@ switch_and_move \"done\" Right\n",
    "    ]\n",
    "\n",
    "let primer_duplicate = speed_run duplicate \"010011\""
   ]
  },
  {
   "cell_type": "markdown",
   "metadata": {},
   "source": [
    "### Eniški zapis\n"
   ]
  },
  {
   "cell_type": "markdown",
   "metadata": {},
   "source": [
    "Sestavite Turingov stroj, ki na začetku na traku sprejme število $n$, zapisano v dvojiškem zapisu, na koncu pa naj bo na traku zapisanih natanko $n$ enic."
   ]
  },
  {
   "cell_type": "code",
   "execution_count": 32,
   "metadata": {
    "vscode": {
     "languageId": "ocaml"
    }
   },
   "outputs": [
    {
     "data": {
      "text/plain": [
       "val to_unary : Machine.t = <abstr>\n"
      ]
     },
     "execution_count": 32,
     "metadata": {},
     "output_type": "execute_result"
    },
    {
     "name": "stdout",
     "output_type": "stream",
     "text": [
      "1111111111\n",
      "^\n"
     ]
    },
    {
     "data": {
      "text/plain": [
       "val primer_to_unary : unit = ()\n"
      ]
     },
     "execution_count": 32,
     "metadata": {},
     "output_type": "execute_result"
    }
   ],
   "source": [
    "let to_unary = \n",
    "  Machine.make \"desno_do_konca\" [\"iščem_1_v_levo\"; \"nesem_1_v_desno\"; \"poisci_prazno_in_zapisi\"; \"pocisti\"; \"levo_do_#\" ;\"done\"]\n",
    "\n",
    "|> for_state \"desno_do_konca\" [\n",
    "     for_character ' ' @@ write_switch_and_move '#' \"iščem_1_v_levo\" Left;\n",
    "     for_characters \"01\" @@ move Right;\n",
    "   ]\n",
    "|> for_state \"iščem_1_v_levo\" [\n",
    "     for_character '1' @@ write_switch_and_move '0' \"nesem_1_v_desno\" Right;\n",
    "     for_character '0' @@ move Left;\n",
    "     for_character ' ' @@ switch_and_move \"pocisti\" Right;\n",
    "   ]\n",
    "|> for_state \"nesem_1_v_desno\" [\n",
    "     for_characters \"0\" @@ write_and_move '1' Right;\n",
    "     for_character '#' @@ switch_and_move \"poisci_prazno_in_zapisi\" Right\n",
    "   ]\n",
    "|> for_state \"poisci_prazno_in_zapisi\" [\n",
    "     for_character '1' @@ move Right;\n",
    "     for_character ' ' @@ write_switch_and_move '1' \"levo_do_#\" Left;\n",
    "   ]\n",
    "|> for_state \"levo_do_#\" [\n",
    "    for_character '1' @@ move Left;\n",
    "    for_character '#' @@ switch_and_move \"iščem_1_v_levo\" Left\n",
    "   ]\n",
    "|> for_state \"pocisti\" [\n",
    "     for_characters \"10\" @@ write_and_move ' ' Right;\n",
    "     for_character '#' @@ write_switch_and_move ' ' \"done\" Right;\n",
    "   ]\n",
    "\n",
    "let primer_to_unary = speed_run to_unary \"1010\""
   ]
  },
  {
   "cell_type": "markdown",
   "metadata": {},
   "source": [
    "### Dvojiški zapis\n"
   ]
  },
  {
   "cell_type": "markdown",
   "metadata": {},
   "source": [
    "Sestavite ravno obratni Turingov stroj, torej tak, ki na začetku na traku sprejme število $n$ enic, na koncu pa naj bo na traku zapisano število $n$ v dvojiškem zapisu."
   ]
  },
  {
   "cell_type": "code",
   "execution_count": 33,
   "metadata": {
    "vscode": {
     "languageId": "ocaml"
    }
   },
   "outputs": [
    {
     "data": {
      "text/plain": [
       "val to_binary : Machine.t = <abstr>\n"
      ]
     },
     "execution_count": 33,
     "metadata": {},
     "output_type": "execute_result"
    },
    {
     "name": "stdout",
     "output_type": "stream",
     "text": [
      "101010                                            \n",
      "^\n"
     ]
    },
    {
     "data": {
      "text/plain": [
       "val primer_to_binary : unit = ()\n"
      ]
     },
     "execution_count": 33,
     "metadata": {},
     "output_type": "execute_result"
    }
   ],
   "source": [
    "let to_binary = \n",
    "  Machine.make \"levo_napisem_#\" [\"pisem_#\"; \"desno_do_konca\"; \"obrnem_in_vzamem_1\"; \"nesem_1_v_levo\"; \"povecaj_stevec\" ;\"desno_do_#\";\"ali_je_konec\";\"pobrisi_#\";\"levo_do_konca\" ;\"done\"]\n",
    "|> for_state \"levo_napisem_#\" [\n",
    "    for_character '1' @@ switch_and_move \"pisem_#\" Left;\n",
    "   ]\n",
    "|> for_state \"pisem_#\" [\n",
    "    for_character ' ' @@ write_switch_and_move '#' \"desno_do_konca\" Right;\n",
    "   ]\n",
    "\n",
    "|> for_state \"desno_do_konca\" [\n",
    "     for_character ' ' @@ switch_and_move \"obrnem_in_vzamem_1\" Left;\n",
    "     for_character '1' @@ move Right;\n",
    "   ]\n",
    "|> for_state \"obrnem_in_vzamem_1\" [\n",
    "     for_character '1' @@ write_switch_and_move ' ' \"nesem_1_v_levo\" Left;\n",
    "     for_character '#' @@ write_switch_and_move ' ' \"levo_do_konca\" Left;\n",
    "   ]\n",
    "|> for_state \"nesem_1_v_levo\" [\n",
    "     for_character '#' @@ switch_and_move \"povecaj_stevec\" Left;\n",
    "     for_character '1' @@ move Left\n",
    "   ]\n",
    "|> for_state \"povecaj_stevec\" [\n",
    "     for_character '1' @@ write_and_move '0' Left;\n",
    "     for_characters \" 0\" @@ write_switch_and_move '1' \"desno_do_#\" Right\n",
    "     ;\n",
    "   ]\n",
    "|> for_state \"desno_do_#\" [\n",
    "    for_characters \"01\" @@ move Right;\n",
    "    for_character '#' @@ switch_and_move \"ali_je_konec\" Right\n",
    "   ]\n",
    "|> for_state \"ali_je_konec\" [\n",
    "     for_character '1' @@ switch_and_move \"desno_do_konca\" Right;\n",
    "     for_character ' ' @@ switch_and_move  \"pobrisi_#\" Left;\n",
    "   ]\n",
    "|> for_state \"pobrisi_#\" [\n",
    "    for_character '#' @@ write_switch_and_move ' ' \"levo_do_konca\" Left;\n",
    "  ]\n",
    "|> for_state \"levo_do_konca\" [\n",
    "    for_characters \"01\" @@ move Left;\n",
    "    for_character ' ' @@ switch_and_move \"done\" Right\n",
    "  ]\n",
    "\n",
    "let primer_to_binary = speed_run to_binary (String.make 42 '1')"
   ]
  },
  {
   "cell_type": "code",
   "execution_count": 35,
   "metadata": {
    "vscode": {
     "languageId": "ocaml"
    }
   },
   "outputs": [
    {
     "data": {
      "text/plain": [
       "val busy_beaver5 : Machine.t = <abstr>\n"
      ]
     },
     "execution_count": 35,
     "metadata": {},
     "output_type": "execute_result"
    },
    {
     "name": "stdout",
     "output_type": "stream",
     "text": [
      "  1  1  1  1  1  1  1  1  1  1  1  1  1  1  1  1  1  1  1  1  1  1  1  1  1  1  1  1  1  1  1  1  1  1  1  1  1  1  1  1  1  1  1  1  1  1  1  1  1  1  1  1  1  1  1  1  1  1  1  1  1  1  1  1  1  1  1  1  1  1  1  1  1  1  1  1  1  1  1  1  1  1  1  1  1  1  1  1  1  1  1  1  1  1  1  1  1  1  1  1  1  1  1  1  1  1  1  1  1  1  1  1  1  1  1  1  1  1  1  1  1  1  1  1  1  1  1  1  1  1  1  1  1  1  1  1  1  1  1  1  1  1  1  1  1  1  1  1  1  1  1  1  1  1  1  1  1  1  1  1  1  1  1  1  1  1  1  1  1  1  1  1  1  1  1  1  1  1  1  1  1  1  1  1  1  1  1  1  1  1  1  1  1  1  1  1  1  1  1  1  1  1  1  1  1  1  1  1  1  1  1  1  1  1  1  1  1  1  1  1  1  1  1  1  1  1  1  1  1  1  1  1  1  1  1  1  1  1  1  1  1  1  1  1  1  1  1  1  1  1  1  1  1  1  1  1  1  1  1  1  1  1  1  1  1  1  1  1  1  1  1  1  1  1  1  1  1  1  1  1  1  1  1  1  1  1  1  1  1  1  1  1  1  1  1  1  1  1  1  1  1  1  1  1  1  1  1  1  1  1  1  1  1  1  1  1  1  1  1  1  1  1  1  1  1  1  1  1  1  1  1  1  1  1  1  1  1  1  1  1  1  1  1  1  1  1  1  1  1  1  1  1  1  1  1  1  1  1  1  1  1  1  1  1  1  1  1  1  1  1  1  1  1  1  1  1  1  1  1  1  1  1  1  1  1  1  1  1  1  1  1  1  1  1  1  1  1  1  1  1  1  1  1  1  1  1  1  1  1  1  1  1  1  1  1  1  1  1  1  1  1  1  1  1  1  1  1  1  1  1  1  1  1  1  1  1  1  1  1  1  1  1  1  1  1  1  1  1  1  1  1  1  1  1  1  1  1  1  1  1  1  1  1  1  1  1  1  1  1  1  1  1  1  1  1  1  1  1  1  1  1  1  1  1  1  1  1  1  1  1  1  1  1  1  1  1  1  1  1  1  1  1  1  1  1  1  1  1  1  1  1  1  1  1  1  1  1  1  1  1  1  1  1  1  1  1  1  1  1  1  1  1  1  1  1  1  1  1  1  1  1  1  1  1  1  1  1  1  1  1  1  1  1  1  1  1  1  1  1  1  1  1  1  1  1  1  1  1  1  1  1  1  1  1  1  1  1  1  1  1  1  1  1  1  1  1  1  1  1  1  1  1  1  1  1  1  1  1  1  1  1  1  1  1  1  1  1  1  1  1  1  1  1  1  1  1  1  1  1  1  1  1  1  1  1  1  1  1  1  1  1  1  1  1  1  1  1  1  1  1  1  1  1  1  1  1  1  1  1  1  1  1  1  1  1  1  1  1  1  1  1  1  1  1  1  1  1  1  1  1  1  1  1  1  1  1  1  1  1  1  1  1  1  1  1  1  1  1  1  1  1  1  1  1  1  1  1  1  1  1  1  1  1  1  1  1  1  1  1  1  1  1  1  1  1  1  1  1  1  1  1  1  1  1  1  1  1  1  1  1  1  1  1  1  1  1  1  1  1  1  1  1  1  1  1  1  1  1  1  1  1  1  1  1  1  1  1  1  1  1  1  1  1  1  1  1  1  1  1  1  1  1  1  1  1  1  1  1  1  1  1  1  1  1  1  1  1  1  1  1  1  1  1  1  1  1  1  1  1  1  1  1  1  1  1  1  1  1  1  1  1  1  1  1  1  1  1  1  1  1  1  1  1  1  1  1  1  1  1  1  1  1  1  1  1  1  1  1  1  1  1  1  1  1  1  1  1  1  1  1  1  1  1  1  1  1  1  1  1  1  1  1  1  1  1  1  1  1  1  1  1  1  1  1  1  1  1  1  1  1  1  1  1  1  1  1  1  1  1  1  1  1  1  1  1  1  1  1  1  1  1  1  1  1  1  1  1  1  1  1  1  1  1  1  1  1  1  1  1  1  1  1  1  1  1  1  1  1  1  1  1  1  1  1  1  1  1  1  1  1  1  1  1  1  1  1  1  1  1  1  1  1  1  1  1  1  1  1  1  1  1  1  1  1  1  1  1  1  1  1  1  1  1  1  1  1  1  1  1  1  1  1  1  1  1  1  1  1  1  1  1  1  1  1  1  1  1  1  1  1  1  1  1  1  1  1  1  1  1  1  1  1  1  1  1  1  1  1  1  1  1  1  1  1  1  1  1  1  1  1  1  1  1  1  1  1  1  1  1  1  1  1  1  1  1  1  1  1  1  1  1  1  1  1  1  1  1  1  1  1  1  1  1  1  1  1  1  1  1  1  1  1  1  1  1  1  1  1  1  1  1  1  1  1  1  1  1  1  1  1  1  1  1  1  1  1  1  1  1  1  1  1  1  1  1  1  1  1  1  1  1  1  1  1  1  1  1  1  1  1  1  1  1  1  1  1  1  1  1  1  1  1  1  1  1  1  1  1  1  1  1  1  1  1  1  1  1  1  1  1  1  1  1  1  1  1  1  1  1  1  1  1  1  1  1  1  1  1  1  1  1  1  1  1  1  1  1  1  1  1  1  1  1  1  1  1  1  1  1  1  1  1  1  1  1  1  1  1  1  1  1  1  1  1  1  1  1  1  1  1  1  1  1  1  1  1  1  1  1  1  1  1  1  1  1  1  1  1  1  1  1  1  1  1  1  1  1  1  1  1  1  1  1  1  1  1  1  1  1  1  1  1  1  1  1  1  1  1  1  1  1  1  1  1  1  1  1  1  1  1  1  1  1  1  1  1  1  1  1  1  1  1  1  1  1  1  1  1  1  1  1  1  1  1  1  1  1  1  1  1  1  1  1  1  1  1  1  1  1  1  1  1  1  1  1  1  1  1  1  1  1  1  1  1  1  1  1  1  1  1  1  1  1  1  1  1  1  1  1  1  1  1  1  1  1  1  1  1  1  1  1  1  1  1  1  1  1  1  1  1  1  1  1  1  1  1  1  1  1  1  1  1  1  1  1  1  1  1  1  1  1  1  1  1  1  1  1  1  1  1  1  1  1  1  1  1  1  1  1  1  1  1  1  1  1  1  1  1  1  1  1  1  1  1  1  1  1  1  1  1  1  1  1  1  1  1  1  1  1  1  1  1  1  1  1  1  1  1  1  1  1  1  1  1  1  1  1  1  1  1  1  1  1  1  1  1  1  1  1  1  1  1  1  1  1  1  1  1  1  1  1  1  1  1  1  1  1  1  1  1  1  1  1  1  1  1  1  1  1  1  1  1  1  1  1  1  1  1  1  1  1  1  1  1  1  1  1  1  1  1  1  1  1  1  1  1  1  1  1  1  1  1  1  1  1  1  1  1  1  1  1  1  1  1  1  1  1  1  1  1  1  1  1  1  1  1  1  1  1  1  1  1  1  1  1  1  1  1  1  1  1  1  1  1  1  1  1  1  1  1  1  1  1  1  1  1  1  1  1  1  1  1  1  1  1  1  1  1  1  1  1  1  1  1  1  1  1  1  1  1  1  1  1  1  1  1  1  1  1  1  1  1  1  1  1  1  1  1  1  1  1  1  1  1  1  1  1  1  1  1  1  1  1  1  1  1  1  1  1  1  1  1  1  1  1  1  1  1  1  1  1  1  1  1  1  1  1  1  1  1  1  1  1  1  1  1  1  1  1  1  1  1  1  1  1  1  1  1  1  1  1  1  1  1  1  1  1  1  1  1  1  1  1  1  1  1  1  1  1  1  1  1  1  1  1  1  1  1  1  1  1  1  1  1  1  1  1  1  1  1  1  1  1  1  1  1  1  1  1  1  1  1  1  1  1  1  1  1  1  1  1  1  1  1  1  1  1  1  1  1  1  1  1  1  1  1  1  1  1  1  1  1  1  1  1  1  1  1  1  1  1  1  1  1  1  1  1  1  1  1  1  1  1  1  1  1  1  1  1  1  1  1  1  1  1  1  1  1  1  1  1  1  1  1  1  1  1  1  1  1  1  1  1  1  1  1  1  1  1  1  1  1  1  1  1  1  1  1  1  1  1  1  1  1  1  1  1  1  1  1  1  1  1  1  1  1  1  1  1  1  1  1  1  1  1  1  1  1  1  1  1  1  1  1  1  1  1  1  1  1  1  1  1  1  1  1  1  1  1  1  1  1  1  1  1  1  1  1  1  1  1  1  1  1  1  1  1  1  1  1  1  1  1  1  1  1  1  1  1  1  1  1  1  1  1  1  1  1  1  1  1  1  1  1  1  1  1  1  1  1  1  1  1  1  1  1  1  1  1  1  1  1  1  1  1  1  1  1  1  1  1  1  1  1  1  1  1  1  1  1  1  1  1  1  1  1  1  1  1  1  1  1  1  1  1  1  1  1  1  1  1  1  1  1  1  1  1  1  1  1  1  1  1  1  1  1  1  1  1  1  1  1  1  1  1  1  1  1  1  1  1  1  1  1  1  1  1  1  1  1  1  1  1  1  1  1  1  1  1  1  1  1  1  1  1  1  1  1  1  1  1  1  1  1  1  1  1  1  1  1  1  1  1  1  1  1  1  1  1  1  1  1  1  1  1  1  1  1  1  1  1  1  1  1  1  1  1  1  1  1  1  1  1  1  1  1  1  1  1  1  1  1  1  1  1  1  1  1  1  1  1  1  1  1  1  1  1  1  1  1  1  1  1  1  1  1  1  1  1  1  1  1  1  1  1  1  1  1  1  1  1  1  1  1  1  1  1  1  1  1  1  1  1  1  1  1  1  1  1  1  1  1  1  1  1  1  1  1  1  1  1  1  1  1  1  1  1  1  1  1  1  1  1  1  1  1  1  1  1  1  1  1  1  1  1  1  1  1  1  1  1  1  1  1  1  1  1  1  1  1  1  1  1  1  1  1  1  1  1  1  1  1  1  1  1  1  1  1  1  1  1  1  1  1  1  1  1  1  1  1  1  1  1  1  1  1  1  1  1  1  1  1  1  1  1  1  1  1  1  1  1  1  1  1  1  1  1  1  1  1  1  1  1  1  1  1  1  1  1  1  1  1  1  1  1  1  1  1  1  1  1  1  1  1  1  1  1  1  1  1  1  1  1  1  1  1  1  1  1  1  1  1  1  1  1  1  1  1  1  1  1  1  1  1  1  1  1  1  1  1  1  1  1  1  1  1  1  1  1  1  1  1  1  1  1  1  1  1  1  1  1  1  1  1  1  1  1  1  1  1  1  1  1  1  1  1  1  1  1  1  1  1  1  1  1  1  1  1  1  1  1  1  1  1  1  1  1  1  1  1  1  1  1  1  1  1  1  1  1  1  1  1  1  1  1  1  1  1  1  1  1  1  1  1  1  1  1  1  1  1  1  1  1  1  1  1  1  1  1  1  1  1  1  1  1  1  1  1  1  1  1  1  1  1  1  1  1  1  1  1  1  1  1  1  1  1  1  1  1  1  1  1  1  1  1  1  1  1  1  1  1  1  1  1  1  1  1  1  1  1  1  1  1  1  1  1  1  1  1  1  1  1  1  1  1  1  1  1  1  1  1  1  1  1  1  1  1  1  1  1  1  1  1  1  1  1  1  1  1  1  1  1  1  1  1  1  1  1  1  1  1  1  1  1  1  1  1  1  1  1  1  1  1  1  1  1  1  1  1  1  1  1  1  1  1  1  1  1  1  1  1  1  1  1  1  1  1  1  1  1  1  1  1  1  1  1  1  1  1  1  1  1  1  1  1  1  1  1  1  1  1  1  1  1  1  1  1  1  1  1  1  1  1  1  1  1  1  1  1  1  1  1  1  1  1  1  1  1  1  1  1  1  1  1  1  1  1  1  1  1  1  1  1  1  1  1  1  1  1  1  1  1  1  1  1  1  1  1  1  1  1  1  1  1  1  1  1  1  1  1  1  1  1  1  1  1  1  1  1  1  1  1  1  1  1  1  1  1  1  1  1  1  1  1  1  1  1  1  1  1  1  1  1  1  1  1  1  1  1  1  1  1  1  1  1  1  1  1  1  1  1  1  1  1  1  1  1  1  1  1  1  1  1  1  1  1  1  1  1  1  1  1  1  1  1  1  1  1  1  1  1  1  1  1  1  1  1  1  1  1  1  1  1  1  1  1  1  1  1  1  1  1  1  1  1  1  1  1  1  1  1  1  1  1  1  1  1  1  1  1  1  1  1  1  1  1  1  1  1  1  1  1  1  1  1  1  1  1  1  1  1  1  1  1  1  1  1  1  1  1  1  1  1  1  1  1  1  1  1  1  1  1  1  1  1  1  1  1  1  1  1  1  1  1  1  1  1  1  1  1  1  1  1  1  1  1  1  1  1  1  1  1  1  1  1  1  1  1  1  1  1  1  1  1  1  1  1  1  1  1  1  1  1  1  1  1  1  1  1  1  1  1  1  1  1  1  1  1  1  1  1  1  1  1  1  1  1  1  1  1  1  1  1  1  1  1  1  1  1  1  1  1  1  1  1  1  1  1  1  1  1  1  1  1  1  1  1  1  1  1  1  1  1  1  1  1  1  1  1  1  1  1  1  1  1  1  1  1  1  1  1  1  1  1  1  1  1  1  1  1  1  1  1  1  1  1  1  1  1  1  1  1  1  1  1  1  1  1  1  1  1  1  1  1  1  1  1  1  1  1  1  1  1  1  1  1  1  1  1  1  1  1  1  1  1  1  1  1  1  1  1  1  1  1  1  1  1  1  1  1  1  1  1  1  1  1  1  1  1  1  1  1  1  1  1  1  1  1  1  1  1  1  1  1  1  1  1  1  1  1  1  1  1  1  1  1  1  1  1  1  1  1  1  1  1  1  1  1  1  1  1  1  1  1  1  1  1  1  1  1  1  1  1  1  1  1  1  1  1  1  1  1  1  1  1  1  1  1  1  1  1  1  1  1  1  1  1  1  1  1  1  1  1  1  1  1  1  1  1  1  1  1  1  1  1  1  1  1  1  1  1  1  1  1  1  1  1  1  1  1  1  1  1  1  1  1  1  1  1  1  1  1  1  1  1  1  1  1  1  1  1  1  1  1  1  1  1  1  1  1  1  1  1  1  1  1  1  1  1  1  1  1  1  1  1  1  1  1  1  1  1  1  1  1  1  1  1  1  1  1  1  1  1  1  1  1  1  1  1  1  1  1  1  1  1  1  1  1  1  1  1  1  1  1  1  1  1  1  1  1  1  1  1  1  1  1  1  1  1  1  1  1  1  1  1  1  1  1  1  1  1  1  1  1  1  1  1  1  1  1  1  1  1  1  1  1  1  1  1  1  1  1  1  1  1  1  1  1  1  1  1  1  1  1  1  1  1  1  1  1  1  1  1  1  1  1  1  1  1  1  1  1  1  1  1  1  1  1  1  1  1  1  1  1  1  1  1  1  1  1  1  1  1  1  1  1  1  1  1  1  1  1  1  1  1  1  1  1  1  1  1  1  1  1  1  1  1  1  1  1  1  1  1  1  1  1  1  1  1  1  1  1  1  1  1  1  1  1  1  1  1  1  1  1  1  1  1  1  1  1  1  1  1  1  1  1  1  1  1  1  1  1  1  1  1  1  1  1  1  1  1  1  1  1  1  1  1  1  1  1  1  1  1  1  1  1  1  1  1  1  1  1  1  1  1  1  1  1  1  1  1  1  1  1  1  1  1  1  1  1  1  1  1  1  1  1  1  1  1  1  1  1  1  1  1  1  1  1  1  1  1  1  1  1  1  1  1  1  1  1  1  1  1  1  1  1  1  1  1  1  1  1  1  1  1  1  1  1  1  1  1  1  1  1  1  1  1  1  1  1  1  1  1  1  1  1  1  1  1  1  1  1  1  1  1  1  1  1  1  1  1  1  1  1  1  1  1  1  1  1  1  1  1  1  1  1  1  1  1  1  1  1  1  1  1  1  1  1  1  1  1  1  1  1  1  1  1  1  1  1  1  1  1  1  1  1  1  1  1  1  1  1  1  1  1  1  1  1  1  1  1  1  1  1  1  1  1  1  1  1  1  1  1  1  1  1  1  1  1  1  1  1  1  1  1  1  1  1  1  1  1  1  1  1  1  1  1  1  1  1  1  1  1  1  1  1  1  1  1  1  1  1  1  1  1  1  1  1  1  1  1  1  1  1  1  1  1  1  1  1  1  1  1  1  1  1  1  1  1  1  1  1  1  1  1  1  1  1  1  1  1  1  1  1  1  1  1  1  1  1  1  1  1  1  1  1  1  1  1  1  1  1  1  1  1  1  1  1  1  1  1  1  1  1  1  1  1  1  1  1  1  1  1  1  1  1  1  1  1  1  1  1  1  1  1  1  1  1  1  1  1  1  1  1  1  1  1  1  1  1  1  1  1  1  1  1  1  1  1  1  1  1  1  1  1  1  1  1  1  1  1  1  1  1  1  1  1  1  1  1  1  1  1  1  1  1  1  1  1  1  1  1  1  1  1  1  1  1  1  1  1  1  1  1  1  1  1  1  1  1  1  1  1  1  1  1  1  1  1  1  1  1  1  1  1  1  1  1  1  1  1  1  1  1  1  1  1  1  1  1  1  1  1  1  1  1  1  1  1  1  1  1  1  1  1  1  1  1  1  1  1  1  1  1  1  1  1  1  1  1  1  1  1  1  1  1  1  1  1  1  1  1  1  1  1  1  1  1  1  1  1  1  1  1  1  1  1  1  1  1  1  1  1  1  1  1  1  1  1  1  1  1  1  1  1  1  1  1  1  1  1  1  1  1  1  1  1  1  1  1  1  1  1  1  1  1  1  1  1  1  1  1  1  1  1  1  1  1  1  1  1  1  1  1  1  1  1  1  1  1  1  1  1  1  1  1  1  1  1  1  1  1  1  1  1  1  1  1  1  1  1  1  1  1  1  1  1  1  1  1  1  1  1  1  1  1  1  1  1  1  1  1  1  1  1  1  1  1  1  1  1  1  1  1  1  1  1  1  1  1  1  1  1  1  1  1  1  1  1  1  1  1  1  1  1  1  1  1  1  1  1  1  1  1  1  1  1  1  1  1  1  1  1  1  1  1  1  1  1  1  1  1  1  1  1  1  1  1  1  1  1  1  1  1  1  1  1  1  1  1  1  1  1  1  1  1  1  1  1  1  1  1  1  1  1  1  1  1  1  1  1  1  1  1  1  1  1  1  1  1  1  1  1  1  1  11\n",
      "^\n"
     ]
    },
    {
     "data": {
      "text/plain": [
       "val poskus : unit = ()\n"
      ]
     },
     "execution_count": 35,
     "metadata": {},
     "output_type": "execute_result"
    }
   ],
   "source": [
    "let busy_beaver5 =\n",
    "  Machine.(make \"A\" [\"B\"; \"C\"; \"D\"; \"E\"]\n",
    "  |> add_transition \"A\" ' ' \"B\" '1' Right\n",
    "  |> add_transition \"A\" '1' \"C\" '1' Left\n",
    "  |> add_transition \"B\" ' ' \"C\" '1' Right\n",
    "  |> add_transition \"B\" '1' \"B\" '1' Right\n",
    "  |> add_transition \"C\" ' ' \"D\" '1' Right\n",
    "  |> add_transition \"C\" '1' \"E\" ' ' Left\n",
    "  |> add_transition \"D\" ' ' \"A\" '1' Left\n",
    "  |> add_transition \"D\" '1' \"D\" '1' Left\n",
    "  |> add_transition \"E\" '1' \"A\" ' ' Left\n",
    ")\n",
    "\n",
    "let poskus = speed_run busy_beaver5 \"\""
   ]
  }
 ],
 "metadata": {
  "kernelspec": {
   "display_name": "OCaml 4.14",
   "language": "OCaml",
   "name": "ocaml-jupyter"
  },
  "language_info": {
   "codemirror_mode": "text/x-ocaml",
   "file_extension": ".ml",
   "mimetype": "text/x-ocaml",
   "name": "OCaml",
   "nbconverter_exporter": null,
   "pygments_lexer": "OCaml",
   "version": "4.14.2"
  }
 },
 "nbformat": 4,
 "nbformat_minor": 2
}
